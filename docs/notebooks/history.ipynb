{
 "cells": [
  {
   "cell_type": "markdown",
   "id": "0",
   "metadata": {},
   "source": [
    "# Cloning history / Cloning strategy\n",
    "\n",
    "When using pydna to plan cloning, it stores the provenance of `Dseqrecord` objects in\n",
    "their `source` attribute. Not all methods generate sources so far, so refer to the documentation\n",
    "notebooks for examples on how to use this feature. The `history` method of `Dseqrecord` objects\n",
    "can be used to get a string representation of the provenance of the sequence. You can also\n",
    "use the `CloningStrategy` class to create a JSON representation of the cloning strategy.\n",
    "That `CloningStrategy` can be loaded in the [OpenCloning](https://opencloning.org/) web interface to see a representation\n",
    "of the cloning strategy like below. See an example in [this link](https://app.opencloning.org/?source=example&example=homologous_recombination.json).\n",
    "\n",
    "<div>\n",
    "<img src=\"https://opencloning.org/images/cloning_strategy.png\" width=\"40%\"/>\n",
    "<div>"
   ]
  },
  {
   "cell_type": "markdown",
   "id": "1",
   "metadata": {},
   "source": [
    "<a target=\"_blank\" href=\"https://colab.research.google.com/github/pydna-group/pydna/blob/cloning-history/docs/notebooks/history.ipynb\">\n",
    "  <img src=\"https://colab.research.google.com/assets/colab-badge.svg\" alt=\"Open In Colab\"/>\n",
    "</a>"
   ]
  },
  {
   "cell_type": "code",
   "execution_count": null,
   "id": "2",
   "metadata": {},
   "outputs": [],
   "source": [
    "%%capture\n",
    "# Install pydna (only when running on Colab)\n",
    "import sys\n",
    "if 'google.colab' in sys.modules:\n",
    "    %pip install \"git+https://github.com/pydna-group/pydna.git@cloning-history#egg=pydna[clipboard,download,express,gel]\"\n",
    "    # Use curl to get the files for gateway:\n",
    "    !curl -LO \"https://github.com/pydna-group/pydna/raw/master/tests/gateway_manual_cloning/pDONRtm221.dna\"\n",
    "    !curl -LO \"https://github.com/pydna-group/pydna/raw/master/tests/gateway_manual_cloning/pcr_product-attP1_1-attP2_1.dna\"\n",
    "    !curl -LO \"https://github.com/pydna-group/pydna/raw/master/tests/gateway_manual_cloning/pET-53-DESTtm.dna\"\n"
   ]
  },
  {
   "cell_type": "code",
   "execution_count": null,
   "id": "3",
   "metadata": {},
   "outputs": [],
   "source": [
    "import os\n",
    "from pydna.dseqrecord import Dseqrecord\n",
    "from pydna.assembly2 import (\n",
    "    golden_gate_assembly,\n",
    "    gibson_assembly,\n",
    "    ligation_assembly,\n",
    "    gateway_assembly,\n",
    "    homologous_recombination_integration,\n",
    "    homologous_recombination_excision,\n",
    "    cre_lox_integration,\n",
    "    cre_lox_excision,\n",
    "    pcr_assembly,\n",
    "    crispr_integration,\n",
    ")\n",
    "\n",
    "from Bio.Restriction import BsaI, EcoRI, SalI\n",
    "from pydna.parsers import parse_snapgene\n",
    "from pydna.opencloning_models import CloningStrategy\n",
    "from pydna.primer import Primer\n",
    "from Bio.Seq import reverse_complement\n"
   ]
  },
  {
   "cell_type": "markdown",
   "id": "4",
   "metadata": {},
   "source": [
    "## Golden Gate assembly (BsaI)\n",
    "This section assembles three inserts into a circular vector using Golden Gate with BsaI and exports the design as JSON.\n"
   ]
  }
 ],
 "metadata": {
  "kernelspec": {
   "display_name": ".venv",
   "language": "python",
   "name": "python3"
  },
  "language_info": {
   "codemirror_mode": {
    "name": "ipython",
    "version": 3
   },
   "file_extension": ".py",
   "mimetype": "text/x-python",
   "name": "python",
   "nbconvert_exporter": "python",
   "pygments_lexer": "ipython3",
   "version": "3.12.11"
  }
 },
 "nbformat": 4,
 "nbformat_minor": 5
}
