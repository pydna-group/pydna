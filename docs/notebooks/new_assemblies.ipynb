{
 "cells": [
  {
   "cell_type": "markdown",
   "metadata": {},
   "source": [
    "# New assembly model\n",
    "\n",
    "Most of the sequence manipulations performed in pydna could be considered either:\n",
    "\n",
    "* A cut (getting a subfragment of a sequence)\n",
    "* An assembly (combining subfragments of existing sequences into a new sequence)\n",
    "\n",
    "## Almost anything can be considered an assembly\n",
    "\n",
    "The concept of assembly can be extended to operations that may not appear as assemblies:\n",
    "* PCR: if we consider primers to be sequences, producing the final sequence algorithmically it's like a gibson assembly or any other type of homology cloning.\n",
    "* Cut + ligation: if we think of the regions of parent sequences that will form overhangs after cutting, we can treat them as homology to produce the final product.\n",
    "\n",
    "## How to represent this\n",
    "\n",
    "Let's consider the below example, a circular gibson assembly of 3 fragments. The homologous regions between them are labelled in light blue.\n",
    "\n",
    "\n",
    "<img src=\"images/assembly.png\" width=\"250\">\n",
    "\n",
    "\n",
    "We can represent the assembly of this fragments, as a list of \"joins\" between fragments. Each join represents the overlap between the two fragments involved:\n",
    "\n",
    "```python\n",
    "assembly = [\n",
    "    [1, 2, '18..21', '1..4']\n",
    "    [2, 3, '9..12', '1..4']\n",
    "    [3, 1, '10..13', '1..4'] # Note how the last fragment is the same as the first one in a circular assembly\n",
    "]\n",
    "```\n",
    "\n",
    "- The first and second integers represent the index of the fragment in the\n",
    "input list of fragments. The sign of the integer represents the orientation\n",
    "of the fragment, positive for forward orientation, negative for reverse orientation.\n",
    "- The strings represent the location of the overlap in the first and second fragment.\n",
    "- We should also indicate whether the assembly is circular or not separately, since it would be possible that a linear assembly is formed where the fragment 1 is used as first and last.\n",
    "\n",
    "Now let's see this in action with a first example (A Gibson assembly).\n"
   ]
  },
  {
   "cell_type": "markdown",
   "metadata": {},
   "source": [
    "## With a Gibson Assembly"
   ]
  },
  {
   "cell_type": "code",
   "execution_count": null,
   "metadata": {},
   "outputs": [
    {
     "name": "stdout",
     "output_type": "stream",
     "text": [
      "Assembly 1 represented as above:\n",
      "((1, 2, '[17:21]', '[0:4]'), (2, 3, '[8:12]', '[0:4]'), (3, 1, '[9:13]', '[0:4]'))\n",
      "Assembly 1 represented as a simpler tuple of strings:\n",
      "('1[17:21]:2[0:4]', '2[8:12]:3[0:4]', '3[9:13]:1[0:4]')\n",
      "\n",
      "Assembly 2 represented as above:\n",
      "((1, -2, '[17:21]', '[0:4]'), (-2, 3, '[8:12]', '[0:4]'), (3, 1, '[9:13]', '[0:4]'))\n",
      "Assembly 2 represented as a simpler tuple of strings:\n",
      "('1[17:21]:-2[0:4]', '-2[8:12]:3[0:4]', '3[9:13]:1[0:4]')\n",
      "\n"
     ]
    }
   ],
   "source": [
    "from pydna.dseqrecord import Dseqrecord\n",
    "from pydna.dseq import Dseq\n",
    "import pydna.assembly2 as assembly\n",
    "#Input fragments, overlaps between them are in caps\n",
    "fragments = [\n",
    "            Dseqrecord('TTTTacgatAAtgctccCCCC', circular=False),\n",
    "            Dseqrecord('CCCCtcatGGGG', circular=False),\n",
    "            Dseqrecord('GGGGatataTTTT', circular=False)\n",
    "        ]\n",
    "\n",
    "# gibson_overlap is an `algorithm` function that finds overlaps between the 3' end of the first\n",
    "# fragment and the 5' end of the second fragment.\n",
    "asm = assembly.Assembly(fragments, limit=4, algorithm=assembly.gibson_overlap, use_all_fragments=True, use_fragment_order=False)\n",
    "\n",
    "# Let's get the possible circular assemblies\n",
    "for i, a in enumerate(asm.get_circular_assemblies()):\n",
    "    print(f'Assembly {i+1} represented as above:')\n",
    "    print(assembly.assembly2str_tuple(a))\n",
    "    print(f'Assembly {i+1} represented as a simpler tuple of strings:')\n",
    "    print(assembly.assembly2str(a))\n",
    "    print()\n",
    "\n"
   ]
  },
  {
   "cell_type": "markdown",
   "metadata": {},
   "source": [
    "As you can see, there are two possible circular assemblies, one with all fragments oriented as they were passed to the class constructor, and one with the second fragment inverted (see -2).\n",
    "\n",
    "### Using graphs: fragments as nodes and joins between them as edges\n",
    "\n",
    "How are these assemblies found? The `Assembly` class contains a directed graph, where nodes represent fragments and\n",
    "edges represent overlaps between fragments:\n",
    "- The node keys are integers, representing the index of the fragment in the input list of fragments. The sign of the node key represents the orientation of the fragment, positive for forward orientation, negative for reverse orientation.\n",
    "- The edges contain the locations of the overlaps in the fragments. For an edge `(u, v, key)`:\n",
    "    - `u` and `v` are the nodes connected by the edge.\n",
    "    - key is a string that represents the location of the overlap. In the format introduced above:\n",
    "    `u[start:end](strand):v[start:end](strand)`.\n",
    "    - Edges have a `locations` attribute, which is a list of two `Location` objects, representing the location of the overlap in the `u` and `v` fragment.\n",
    "    - You can think of an edge as a representation of the join of two fragments.\n",
    "\n",
    "Let's look at how the edges of the previous graph look"
   ]
  },
  {
   "cell_type": "code",
   "execution_count": null,
   "metadata": {},
   "outputs": [
    {
     "name": "stdout",
     "output_type": "stream",
     "text": [
      "(1, 2, '1[17:21]:2[0:4]')\n",
      "(1, -2, '1[17:21]:-2[0:4]')\n",
      "(2, -1, '2[8:12]:-1[0:4]')\n",
      "(2, 3, '2[8:12]:3[0:4]')\n",
      "(3, 1, '3[9:13]:1[0:4]')\n",
      "(-1, -3, '-1[17:21]:-3[0:4]')\n",
      "(-2, -1, '-2[8:12]:-1[0:4]')\n",
      "(-2, 3, '-2[8:12]:3[0:4]')\n",
      "(-3, -2, '-3[9:13]:-2[0:4]')\n",
      "(-3, 2, '-3[9:13]:2[0:4]')\n"
     ]
    }
   ],
   "source": [
    "print(*asm.G.edges, sep='\\n')"
   ]
  },
  {
   "cell_type": "markdown",
   "metadata": {},
   "source": [
    "Note that multiple edges can exist between two nodes. For instance, if a subsequence in node `x` is homologous to two subsequences in node `y`."
   ]
  },
  {
   "cell_type": "code",
   "execution_count": null,
   "metadata": {},
   "outputs": [
    {
     "name": "stdout",
     "output_type": "stream",
     "text": [
      "(1, 2, '1[4:8]:2[1:5]')\n",
      "(1, 2, '1[4:8]:2[6:10]')\n",
      "(2, 1, '2[6:10]:1[4:8]')\n",
      "(2, 1, '2[1:5]:1[4:8]')\n",
      "(-1, -2, '-1[1:5]:-2[1:5]')\n",
      "(-1, -2, '-1[1:5]:-2[6:10]')\n",
      "(-2, -1, '-2[6:10]:-1[1:5]')\n",
      "(-2, -1, '-2[1:5]:-1[1:5]')\n"
     ]
    }
   ],
   "source": [
    "fragments = [\n",
    "            Dseqrecord('TTTTCCCCG', circular=False),\n",
    "            Dseqrecord('GCCCCaCCCCa', circular=False),\n",
    "        ]\n",
    "\n",
    "asm = assembly.Assembly(fragments, limit=4, algorithm=assembly.common_sub_strings, use_all_fragments=True, use_fragment_order=False)\n",
    "print(*asm.G.edges, sep='\\n')"
   ]
  },
  {
   "cell_type": "markdown",
   "metadata": {},
   "source": [
    "### Finding assemblies with the graph and constrains applied\n",
    "\n",
    "The function `Assembly.get_circular_assemblies` finds circular paths along these edges. Constrains have been applied so that all fragments are used (`use_all_fragments=True`), and not to reproduce the legacy pydna behaviour in which the first and last fragments must appear first and last (`use_fragment_order=False`).\n",
    "\n",
    "To avoid returning the same assembly twice, we apply the following constrains:\n",
    "- **Circular assemblies**: the first subfragment is not reversed, and has the smallest index in the input fragment list.\n",
    "    use_fragment_order is ignored.\n",
    "- **Linear assemblies**: Using `uid` of edges (see add_edges_from_match) to identify unique edges.\n",
    "\n",
    "\n"
   ]
  },
  {
   "cell_type": "markdown",
   "metadata": {},
   "source": [
    "## With a restriction + ligation"
   ]
  },
  {
   "cell_type": "code",
   "execution_count": null,
   "metadata": {},
   "outputs": [
    {
     "name": "stdout",
     "output_type": "stream",
     "text": [
      "# Using classic pydna\n",
      "Expected products:\n",
      "AAAGAATTCCCC\n",
      "AAAGAATTCGGGG\n",
      "CCCCGAATTCTTT\n",
      "TTTGAATTCGGGG\n",
      "\n",
      "# Using new assembly\n",
      "assembly: ('1[4:8]:2[5:9]',)\n",
      "sequence: AAAGAATTCCCC\n",
      "\n",
      "assembly: ('1[4:8]:-2[4:8]',)\n",
      "sequence: AAAGAATTCGGGG\n",
      "\n",
      "assembly: ('2[5:9]:1[4:8]',)\n",
      "sequence: CCCCGAATTCAAA\n",
      "\n",
      "assembly: ('-1[4:8]:2[5:9]',)\n",
      "sequence: TTTGAATTCCCC\n",
      "\n"
     ]
    }
   ],
   "source": [
    "from Bio.Restriction import EcoRI\n",
    "\n",
    "fragments = [\n",
    "    Dseqrecord('AAAGAATTCAAA'), Dseqrecord('CCCCGAATTCCCC')\n",
    "]\n",
    "\n",
    "# Let's print how we would do it with classic pydna\n",
    "f0_a, f0_b = fragments[0].cut(EcoRI)\n",
    "f1_a, f1_b = fragments[1].cut(EcoRI)\n",
    "\n",
    "print('# Using classic pydna')\n",
    "print('Expected products:')\n",
    "print((f0_a + f1_b).seq)\n",
    "print((f0_a + f1_a.reverse_complement()).seq)\n",
    "print((f1_a + f0_a.reverse_complement()).seq)\n",
    "print((f1_a + f0_b).seq.reverse_complement())\n",
    "print()\n",
    "\n",
    "\n",
    "print('# Using new assembly')\n",
    "# Here we define the function in line, because `algorithm` functions are expected\n",
    "# to take three inputs (x, y, l): Dseqrecord, Dseqrecord and an integer for the overlap,\n",
    "# and it would not make sense to add an extra field in case of restriction enzymes.\n",
    "algo = lambda x, y, l : assembly.restriction_ligation_overlap(x, y, [EcoRI])\n",
    "asm = assembly.Assembly(fragments, algorithm=algo, use_fragment_order=False)\n",
    "\n",
    "for a in asm.get_linear_assemblies():\n",
    "    print('assembly:',assembly.assembly2str(a))\n",
    "    print('sequence:',assembly.assemble(fragments, a, False).seq)\n",
    "    print()\n",
    "\n"
   ]
  },
  {
   "cell_type": "markdown",
   "metadata": {},
   "source": [
    "## With Golden Gate\n",
    "\n",
    "This is actually ligation - restriction again. For a longer example, see `test_golden_gate` in the file `test_assembly.py`."
   ]
  },
  {
   "cell_type": "code",
   "execution_count": null,
   "metadata": {},
   "outputs": [
    {
     "name": "stdout",
     "output_type": "stream",
     "text": [
      "assembly: ('1[16:20]:2[7:11]',)\n",
      "sequence: GGTCTCAattaAAAAAttaaCCCCCatatAGAGACC\n",
      "assembly: ('1[16:20]:-2[16:20]',)\n",
      "sequence: GGTCTCAattaAAAAAttaaTGAGACC\n",
      "assembly: ('2[7:11]:1[16:20]',)\n",
      "sequence: GGTCTCAttaaAGAGACC\n",
      "assembly: ('-1[7:11]:2[7:11]',)\n",
      "sequence: GGTCTCTttaaCCCCCatatAGAGACC\n"
     ]
    }
   ],
   "source": [
    "from Bio.Restriction import BsaI\n",
    "\n",
    "fragments = [Dseqrecord('GGTCTCAattaAAAAAttaaAGAGACC'), Dseqrecord('GGTCTCAttaaCCCCCatatAGAGACC')]\n",
    "\n",
    "algo = lambda x, y, l : assembly.restriction_ligation_overlap(x, y, [BsaI])\n",
    "asm = assembly.Assembly(fragments, use_fragment_order=False, limit=10, algorithm=algo)\n",
    "\n",
    "for a in asm.get_linear_assemblies():\n",
    "    print('assembly:',assembly.assembly2str(a))\n",
    "    print('sequence:',assembly.assemble(fragments, a, False).seq)\n"
   ]
  },
  {
   "cell_type": "markdown",
   "metadata": {},
   "source": [
    "# With ligation only\n",
    "\n",
    "You can also feed digested fragments as inputs, and get all possible ligations. In the case below a circular molecule is digested twice with EcoRI, and the assembly class returns two outputs: the original input after re-ligation, and a circular sequence where one of the fragments is inverted.\n"
   ]
  },
  {
   "cell_type": "code",
   "execution_count": null,
   "metadata": {},
   "outputs": [
    {
     "name": "stdout",
     "output_type": "stream",
     "text": [
      "assembly: ('1[8:12]:2[0:4]', '2[10:14]:1[0:4]')\n",
      "sequence: AATTCTTGAATTCCCAAGAATTCTTGAATT\n",
      "\n",
      "assembly: ('1[8:12]:-2[0:4]', '-2[10:14]:1[0:4]')\n",
      "sequence: AATTCTTGAATTCTTGGGAATTCTTGAATT\n",
      "\n",
      "Partial ligation inputs:\n",
      "Dseq(-6)\n",
      "AAAGAA\n",
      "TTT\n",
      "Dseq(-6)\n",
      "   GAA\n",
      "TTTCTT\n",
      "assembly: ('1[4:6]:2[0:2]',)\n",
      "sequence: Dseq(-10)\n",
      "AAAGAAAGAA\n",
      "TTTCTTTCTT\n",
      "\n"
     ]
    }
   ],
   "source": [
    "fragments = Dseqrecord('AAGAATTCTTGAATTCCC', circular=True).cut(EcoRI)\n",
    "expected_result = [(fragments[0] + fragments[1]).looped(), (fragments[0] + fragments[1].reverse_complement()).looped()]\n",
    "asm = assembly.Assembly(fragments, algorithm=assembly.sticky_end_sub_strings, limit=False, use_all_fragments=True, use_fragment_order=False)\n",
    "for a in asm.get_circular_assemblies():\n",
    "    print('assembly:',assembly.assembly2str(a))\n",
    "    print('sequence:',assembly.assemble(fragments, a, True).seq)\n",
    "    print()\n",
    "\n",
    "\n",
    "\n",
    "# Partial ligation is also supported (when the overhangs are compatible, but not identical). For now this is\n",
    "# expressed with limit=True, but in the future it should be done better.\n",
    "a = Dseqrecord(Dseq.from_full_sequence_and_overhangs('AAAGAA', 0, 3))\n",
    "b = Dseqrecord(Dseq.from_full_sequence_and_overhangs('AAAGAA', 3, 0))\n",
    "\n",
    "print('Partial ligation inputs:')\n",
    "print(a.seq.__repr__())\n",
    "print(b.seq.__repr__())\n",
    "\n",
    "# Only when limit == True -> TODO: change this to not be an assembly parameter, but\n",
    "# functional instead.\n",
    "fragments = [a, b]\n",
    "asm = assembly.Assembly(fragments, algorithm=assembly.sticky_end_sub_strings, limit=True, use_all_fragments=True, use_fragment_order=False)\n",
    "for assembly_plan in asm.get_linear_assemblies():\n",
    "    print('assembly:',assembly.assembly2str(assembly_plan))\n",
    "    print('sequence:',assembly.assemble(fragments, assembly_plan, False).seq.__repr__())\n",
    "    print()\n",
    "\n"
   ]
  },
  {
   "cell_type": "markdown",
   "metadata": {},
   "source": [
    "# With PCR"
   ]
  },
  {
   "cell_type": "code",
   "execution_count": null,
   "metadata": {},
   "outputs": [
    {
     "name": "stdout",
     "output_type": "stream",
     "text": [
      "assembly: ('1[0:8]:2[4:12]', '2[18:26]:-3[0:8]')\n",
      "sequence: ACGAACGTAAAAAAGCGCGCGC\n",
      "\n",
      "Invert fragment:\n",
      "assembly: ('1[0:8]:-2[4:12]', '-2[18:26]:-3[0:8]')\n",
      "sequence: ACGAACGTAAAAAAGCGCGCGC\n",
      "\n",
      "Invert primer:\n",
      "No assemblies found, as expected: 0\n"
     ]
    }
   ],
   "source": [
    "from pydna.primer import Primer\n",
    "\n",
    "primer1 = Primer('ACGAACGT')\n",
    "primer2 = Primer('GCGCGCGC').reverse_complement()\n",
    "\n",
    "seq = Dseqrecord('TTTTACGAACGTAAAAAAGCGCGCGCTTTTT')\n",
    "\n",
    "fragments = [primer1, seq, primer2]\n",
    "\n",
    "# PCR assembly is a special type of assembly, the order of the fragments should be\n",
    "# as above\n",
    "asm = assembly.PCRAssembly(fragments, limit=8)\n",
    "\n",
    "for a in asm.get_linear_assemblies():\n",
    "    print('assembly:',assembly.assembly2str(a))\n",
    "    print('sequence:',assembly.assemble(fragments, a, False).seq)\n",
    "\n",
    "print()\n",
    "print('Invert fragment:')\n",
    "\n",
    "# See that it also works with inverted fragment:\n",
    "fragments = [primer1, seq.reverse_complement(), primer2]\n",
    "\n",
    "# PCR assembly is a special type of assembly, the order of the fragments should be\n",
    "# as above\n",
    "asm = assembly.PCRAssembly(fragments, limit=8)\n",
    "\n",
    "for a in asm.get_linear_assemblies():\n",
    "    print('assembly:',assembly.assembly2str(a))\n",
    "    print('sequence:',assembly.assemble(fragments, a, False).seq)\n",
    "\n",
    "# As expected, it does not work with inverted primers\n",
    "\n",
    "print()\n",
    "print('Invert primer:')\n",
    "\n",
    "fragments = [primer1.reverse_complement(), seq, primer2]\n",
    "\n",
    "asm = assembly.PCRAssembly(fragments, limit=8)\n",
    "\n",
    "print('No assemblies found, as expected:', len(asm.get_linear_assemblies()))\n",
    "\n"
   ]
  },
  {
   "cell_type": "markdown",
   "metadata": {},
   "source": [
    "## With homologous recombination\n",
    "\n",
    "If you would be simulating homologous recombination of non-genome sequences this is not needed, just selecting the common_substring algorithm. However, sometimes we would want to simulate the recombination into a genome region, for instance we could download the sequence of a locus where we want to clone something. In that case, the first and last element in the assembly should be identical, but it should be a linear assembly. See the example below"
   ]
  },
  {
   "cell_type": "code",
   "execution_count": null,
   "metadata": {},
   "outputs": [
    {
     "name": "stdout",
     "output_type": "stream",
     "text": [
      "assembly: ('1[3:11]:2[0:8]', '2[16:24]:1[15:23]')\n",
      "sequence: aaaACGTACGTgcgcgcgcGCATGCATttt\n",
      "\n",
      "assembly: ('2[0:8]:1[3:11]', '1[15:23]:2[16:24]')\n",
      "sequence: ACGTACGTtataGCATGCAT\n",
      "\n"
     ]
    }
   ],
   "source": [
    "\n",
    "# Let's imagine the first sequence is the genomic sequence,\n",
    "# and we want to replace tata with gcgcgcgc using homologous\n",
    "# recombination\n",
    "fragments = [\n",
    "    Dseqrecord('aaaACGTACGTtataGCATGCATttt', circular=False),\n",
    "    Dseqrecord('ACGTACGTgcgcgcgcGCATGCAT', circular=False),\n",
    "]\n",
    "\n",
    "# Here there is no need to specify the algorithm, as it is the default\n",
    "asm = assembly.Assembly(fragments, use_fragment_order=False, limit=8)\n",
    "\n",
    "# There are two possibilities, inserting the first sequence in the second\n",
    "# or the second in the first. You would have to filter based on the prior\n",
    "# knowledge that the first sequence is the genomic sequence.\n",
    "\n",
    "for i, a in enumerate(asm.get_insertion_assemblies()):\n",
    "    print('assembly:',assembly.assembly2str(a))\n",
    "    print('sequence:',assembly.assemble(fragments, a, False).seq)\n",
    "    print()\n"
   ]
  },
  {
   "cell_type": "markdown",
   "metadata": {},
   "source": [
    "## Special topologies\n",
    "\n",
    "There is (I think) only one special case that we need to handle differently, when a single site in a circular molecule is recombined into the genome as in the previous section, or a circular molecule is cloned through restriction-ligation into a single cutsite. Below is a figure of the homologous recombination case, but it would be the same topology if it was a restriction site instead of a homologous region.\n",
    "\n",
    "<img src=\"https://www.researchgate.net/profile/Paolo-Magni/publication/236689350/figure/fig1/AS:213940668768269@1428018838750/Main-plasmid-based-methodologies-for-chromosomal-integration-of-parts-in-E-coli-A.png\" width=\"500px\">"
   ]
  },
  {
   "cell_type": "code",
   "execution_count": null,
   "metadata": {},
   "outputs": [
    {
     "name": "stdout",
     "output_type": "stream",
     "text": [
      ">> Homologous recombination\n",
      "assembly: ('1[3:13]:2join{[7:16], [0:1]}', '2join{[7:16], [0:1]}:1[3:13]')\n",
      "sequence: aaaaACGAACGTtatatataACGAACGTtttt\n",
      "\n",
      ">> Restriction:\n",
      "assembly: ('1[5:9]:2[5:9]', '2[5:9]:1[5:9]')\n",
      "sequence: aaaaGAATTCccccccccGAATTCaaaa\n",
      "\n",
      "assembly: ('1[5:9]:-2[5:9]', '-2[5:9]:1[5:9]')\n",
      "sequence: aaaaGAATTCggggggggGAATTCaaaa\n",
      "\n"
     ]
    }
   ],
   "source": [
    "# First fragment is the genome, second is the plasmid\n",
    "\n",
    "fragments = [\n",
    "    Dseqrecord('aaaaACGAACGTtttt', circular=False),\n",
    "    Dseqrecord('tatatataACGAACGT', circular=True),\n",
    "]\n",
    "\n",
    "# Here there is no need to specify the algorithm, as it is the default\n",
    "asm = assembly.Assembly(fragments,  use_fragment_order=False, limit=8)\n",
    "\n",
    "print('>> Homologous recombination')\n",
    "for i, a in enumerate(asm.get_insertion_assemblies()):\n",
    "    print('assembly:',assembly.assembly2str(a))\n",
    "    print('sequence:',assembly.assemble(fragments, a, False).seq)\n",
    "    print()\n",
    "\n",
    "# Here we cut two plasmids open which both contain a single EcoRI site, and ligate them\n",
    "\n",
    "fragments = [\n",
    "    Dseqrecord('aaaaGAATTCaaaa', circular=True), Dseqrecord('ccccGAATTCcccc', circular=True)\n",
    "]\n",
    "\n",
    "algo = lambda x, y, l : assembly.restriction_ligation_overlap(x, y, [EcoRI])\n",
    "asm = assembly.Assembly(fragments, algorithm=algo, use_fragment_order=False)\n",
    "\n",
    "\n",
    "print('>> Restriction:')\n",
    "for a in asm.get_circular_assemblies():\n",
    "    print('assembly:',assembly.assembly2str(a))\n",
    "    print('sequence:',assembly.assemble(fragments, a, True).seq)\n",
    "    print()\n",
    "\n"
   ]
  },
  {
   "cell_type": "markdown",
   "metadata": {},
   "source": [
    "## A weird edge-case\n",
    "\n",
    "There is a special case that we may not want to include: if a linear insert has two homology regions at its edges, and the template (circular plasmid or genome) has a single insertion site.\n",
    "\n",
    "<img src=\"images/weird_assembly.png\" width=\"350\">\n",
    "\n",
    "This makes sense if the blue regions represent cutsites. I think it also makes sense for homologous recombination, but the meaning of the parameter `limit` in the assembly would have a slightly different meaning. For instance, if the length of the blue homologue regions from the image would be 8 bp, and we would set `limit` to 8, the assembly yielding the result would be returned. However, neither of the homologous regions would overlap 8, but instead they would overlap `x` and `8-x`. See example below.\n"
   ]
  },
  {
   "cell_type": "code",
   "execution_count": null,
   "metadata": {},
   "outputs": [
    {
     "name": "stdout",
     "output_type": "stream",
     "text": [
      ">> Homologous recombination\n",
      "assembly: ('2[6:14]:1[0:8]', '1[12:20]:2[6:14]')\n",
      "sequence: tatataACGAACGTttatACGAACGTcgcgc\n",
      "\n",
      ">> Restriction:\n",
      "assembly: ('1[11:15]:2[5:9]', '2[5:9]:1[1:5]')\n",
      "sequence: GAATTCttatGAATTCCCCCCCCGAATTCttatGAATTC\n",
      "\n",
      "assembly: ('1[11:15]:-2[4:8]', '-2[4:8]:1[1:5]')\n",
      "sequence: GAATTCttatGAATTCGGGGGGGGAATTCttatGAATTC\n",
      "\n"
     ]
    }
   ],
   "source": [
    "# First fragment is the insert, second is the genome\n",
    "\n",
    "fragments = [\n",
    "    Dseqrecord('ACGAACGTttatACGAACGT', circular=False),\n",
    "    Dseqrecord('tatataACGAACGTcgcgc', circular=False),\n",
    "]\n",
    "\n",
    "asm = assembly.Assembly(fragments,  use_fragment_order=False, limit=8)\n",
    "\n",
    "print('>> Homologous recombination')\n",
    "for i, a in enumerate(asm.get_insertion_assemblies()):\n",
    "    print('assembly:',assembly.assembly2str(a))\n",
    "    print('sequence:',assembly.assemble(fragments, a, False).seq)\n",
    "    print()\n",
    "\n",
    "# Now with restriction / ligation (this one is for sure correct)\n",
    "\n",
    "fragments = [\n",
    "    Dseqrecord('GAATTCttatGAATTC', circular=False), Dseqrecord('CCCCGAATTCCCC', circular=True)\n",
    "]\n",
    "\n",
    "algo = lambda x, y, l : assembly.restriction_ligation_overlap(x, y, [EcoRI])\n",
    "asm = assembly.Assembly(fragments, algorithm=algo, use_fragment_order=False)\n",
    "\n",
    "\n",
    "print('>> Restriction:')\n",
    "for a in asm.get_circular_assemblies():\n",
    "    print('assembly:',assembly.assembly2str(a))\n",
    "    print('sequence:',assembly.assemble(fragments, a, True).seq)\n",
    "    print()\n",
    "\n"
   ]
  }
 ],
 "metadata": {
  "kernelspec": {
   "display_name": ".venv",
   "language": "python",
   "name": "python3"
  },
  "language_info": {
   "codemirror_mode": {
    "name": "ipython",
    "version": 3
   },
   "file_extension": ".py",
   "mimetype": "text/x-python",
   "name": "python",
   "nbconvert_exporter": "python",
   "pygments_lexer": "ipython3",
   "version": "3.12.2"
  }
 },
 "nbformat": 4,
 "nbformat_minor": 2
}
