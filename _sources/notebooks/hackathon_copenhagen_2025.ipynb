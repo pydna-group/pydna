{
 "cells": [
  {
   "cell_type": "markdown",
   "metadata": {},
   "source": [
    "## Hackathon Copenhagen 2025\n",
    "\n",
    "This notebook is an introduction to the pydna package, meant to be used as a starting point for the hackathon.\n",
    "\n",
    "Click on the link below to open the notebook in Google Colab, so that you can   easily run it locally.\n",
    "\n",
    "<a target=\"_blank\" href=\"https://colab.research.google.com/github/pydna-group/pydna/blob/master/docs/notebooks/hackathon_copenhagen_2025.ipynb\">\n",
    "  <img src=\"https://colab.research.google.com/assets/colab-badge.svg\" alt=\"Open In Colab\"/>\n",
    "</a>\n",
    "\n",
    "\n",
    "\n"
   ]
  },
  {
   "cell_type": "markdown",
   "metadata": {
    "vscode": {
     "languageId": "plaintext"
    }
   },
   "source": [
    "The below cell simply installs the necessary dependencies to run pydna and downloads the files to run the code if you are running in google collab. If you are running this in your computer, you will have to install `pydna` from pip or your favourite package manager, and download the files yourself from [here](https://github.com/pydna-group/pydna/tree/master/docs/notebooks).\n"
   ]
  },
  {
   "cell_type": "code",
   "execution_count": null,
   "metadata": {},
   "outputs": [],
   "source": [
    "%%capture\n",
    "# Install pydna (only when running on Colab)\n",
    "import sys\n",
    "if 'google.colab' in sys.modules:\n",
    "    %pip install pydna[clipboard,download,express,gel]\n",
    "    !curl -LO \"https://github.com/pydna-group/pydna/raw/master/docs/notebooks/U49845.fasta\"\n",
    "    !curl -LO \"https://github.com/pydna-group/pydna/raw/master/docs/notebooks/CU329670.gb\"\n",
    "    !mkdir images/\n",
    "    !curl -LO \"https://github.com/pydna-group/pydna/raw/master/docs/notebooks/images/snapgene_screenshot.png\"\n",
    "    !mv snapgene_screenshot.png images/\n",
    "    !curl -LO \"https://github.com/pydna-group/pydna/raw/master/docs/notebooks/images/snapgene_screenshot2.png\"\n",
    "    !mv snapgene_screenshot2.png images/\n"
   ]
  },
  {
   "cell_type": "markdown",
   "metadata": {},
   "source": [
    "## Dseq and Dseqrecord\n",
    "\n",
    "Pydna contains classes to represent double stranded DNA sequences that can:\n",
    "\n",
    "* Be linear\n",
    "* Be circular\n",
    "* Contain overhangs (sticky ends).\n",
    "\n",
    "These sequences can be used to simulate molecular biology methods such as cloning and PCR. The main classes used to represent sequences are `Dseq` and `Dseqrecord`.\n",
    "* `Dseq` represents the sequence only. Think of it as a FASTA file.\n",
    "* `Dseqrecord` can contain sequence features and other info such as publication, authors, etc. Think of it as a Genbank file.\n",
    "\n",
    "The most important aspects are shown below:\n"
   ]
  },
  {
   "cell_type": "code",
   "execution_count": null,
   "metadata": {},
   "outputs": [
    {
     "name": "stdout",
     "output_type": "stream",
     "text": [
      "Dseq is printed as a string sequence:\n",
      "ATCG\n",
      "\n",
      "ATCG\n",
      "\n",
      "The representation also prints the circularity and both strands:\n",
      "Dseq(-4)\n",
      "ATCG\n",
      "TAGC\n",
      "\n",
      "Dseq(o4)\n",
      "ATCG\n",
      "TAGC\n",
      "\n",
      "Circular sequences support circular indexing: CGA\n",
      "Linear sequences return an empty sequence object: \n"
     ]
    }
   ],
   "source": [
    "from pydna.dseq import Dseq\n",
    "\n",
    "# We initialize a Dseq object with a string of DNA sequence, by default it is linear\n",
    "my_dseq = Dseq(\"ATCG\")\n",
    "\n",
    "# We can specify the circularity of the sequence\n",
    "my_circ_dseq = Dseq(\"ATCG\", circular=True)\n",
    "\n",
    "print(\"Dseq is printed as a string sequence:\")\n",
    "print(my_dseq, \"\", my_circ_dseq, sep=\"\\n\")\n",
    "print()\n",
    "print(\"The representation also prints the circularity and both strands:\")\n",
    "print(repr(my_dseq), \"\", repr(my_circ_dseq), sep=\"\\n\")\n",
    "\n",
    "print()\n",
    "print(\"Circular sequences support circular indexing:\", my_circ_dseq[2:1])\n",
    "print(\"Linear sequences return an empty sequence object:\", my_dseq[2:1])\n",
    "\n",
    "\n"
   ]
  },
  {
   "cell_type": "markdown",
   "metadata": {},
   "source": [
    "A `Dseqrecord` object contains a `Dseq` object and other information such as the sequence name, description, and features."
   ]
  },
  {
   "cell_type": "code",
   "execution_count": null,
   "metadata": {},
   "outputs": [
    {
     "name": "stdout",
     "output_type": "stream",
     "text": [
      "Dseqrecord\n",
      "circular: False\n",
      "size: 23\n",
      "ID: id\n",
      "Name: name\n",
      "Description: description\n",
      "Number of features: 0\n",
      "/molecule_type=DNA\n",
      "Dseq(-23)\n",
      "TGCAAACAGTAATGATGGATGAC\n",
      "ACGTTTGTCATTACTACCTACTG\n",
      "\n",
      "<class 'pydna.dseq.Dseq'> TGCAAACAGTAATGATGGATGAC\n"
     ]
    }
   ],
   "source": [
    "from pydna.dseqrecord import Dseqrecord\n",
    "\n",
    "# One way to initialize a Dseqrecord object is to pass a Dseq object\n",
    "my_dseqrecord = Dseqrecord(Dseq(\"TGCAAACAGTAATGATGGATGAC\", circular=False))\n",
    "\n",
    "# Another way is to pass a string of DNA sequence\n",
    "my_dseqrecord = Dseqrecord(\"TGCAAACAGTAATGATGGATGAC\", circular=False)\n",
    "\n",
    "# We can print the Dseqrecord object to see the sequence and other information\n",
    "print(my_dseqrecord)\n",
    "\n",
    "# We can also print the sequence only (it is a Dseq object)\n",
    "print()\n",
    "print(type(my_dseqrecord.seq), my_dseqrecord.seq)\n",
    "\n",
    "# We can add features, name it, etc. more on this later.\n"
   ]
  },
  {
   "cell_type": "markdown",
   "metadata": {},
   "source": [
    "\n",
    "\n",
    "> NOTE: The `Dseq` class is a subclass of biopython's `Seq`, whose documentation can be found [here](https://biopython.org/wiki/Seq). `Dseqrecord` is a subclass of biopython's `SeqRecord`, whose documentation can be found [here](https://biopython.org/wiki/SeqRecord)."
   ]
  },
  {
   "cell_type": "markdown",
   "metadata": {},
   "source": [
    "## Importing Sequence Files\n",
    "\n",
    "To import files into pydna is simple. pydna provides the `parse` method to read all DNA sequences in a file into a list. As an input, `parse` can take:\n",
    "\n",
    "* The path to a file from your computer\n",
    "* A python string with the file content.\n",
    "\n",
    "The following code shows an example of how to use the `parse` function to import a FASTA file."
   ]
  },
  {
   "cell_type": "code",
   "execution_count": null,
   "metadata": {},
   "outputs": [
    {
     "name": "stdout",
     "output_type": "stream",
     "text": [
      ">lcl|U49845.1_cds_AAA98665.1_1 [protein=TCP1-beta] [frame=3] [protein_id=AAA98665.1] [location=<1..206] [gbkey=CDS]\n",
      "TCCTCCATATACAACGGTATCTCCACCTCAGGTTTAGATCTCAACAACGGAACCATTGCC\n",
      "GACATGAGACAGTTAGGTATCGTCGAGAGTTACAAGCTAAAACGAGCAGTAGTCAGCTCT\n",
      "GCATCTGAAGCCGCTGAAGTTCTACTAAGGGTGGATAACATCATCCGTGCAAGACCAAGA\n",
      "ACCGCCAATAGACAACATATGTAA\n"
     ]
    }
   ],
   "source": [
    "from pydna.parsers import parse\n",
    "\n",
    "#Import your file into python using its path\n",
    "file_path = \"./U49845.fasta\"\n",
    "files = parse(file_path)\n",
    "\n",
    "#Show your FASTA file in python\n",
    "print(files[0].format(\"fasta\"))"
   ]
  },
  {
   "cell_type": "markdown",
   "metadata": {},
   "source": [
    "Note that `parse` returns a `list` object, hence requiring `[0]` to take the first element of the list. When you have a FASTA file that contains multiple sequences, you can index the list accordingly (e.g  `[0]`, `[1]`, ...)\n",
    "\n",
    "The last line of code uses the `format` method to generate a string representation of the sequence as a FASTA file."
   ]
  },
  {
   "cell_type": "markdown",
   "metadata": {},
   "source": [
    "Another example, using a GenBank file ([U49845](https://www.ncbi.nlm.nih.gov/nucleotide/U49845)), is shown below."
   ]
  },
  {
   "cell_type": "code",
   "execution_count": null,
   "metadata": {},
   "outputs": [
    {
     "name": "stdout",
     "output_type": "stream",
     "text": [
      "Dseqrecord\n",
      "circular: False\n",
      "size: 4538\n",
      "ID: CU329670.1\n",
      "Name: CU329670\n",
      "Description: Schizosaccharomyces pombe strain 972h- genome assembly, chromosome: I\n",
      "Database cross-references: BioProject:PRJNA13836, BioSample:SAMEA3138176\n",
      "Number of features: 15\n",
      "/molecule_type=DNA\n",
      "/topology=linear\n",
      "/data_file_division=PLN\n",
      "/date=26-APR-2024\n",
      "/accessions=['CU329670']\n",
      "/sequence_version=1\n",
      "/keywords=['']\n",
      "/source=Schizosaccharomyces pombe (fission yeast)\n",
      "/organism=Schizosaccharomyces pombe\n",
      "/taxonomy=['Eukaryota', 'Fungi', 'Dikarya', 'Ascomycota', 'Taphrinomycotina', 'Schizosaccharomycetes', 'Schizosaccharomycetales', 'Schizosaccharomycetaceae', 'Schizosaccharomyces']\n",
      "/references=[Reference(title='The mitochondrial genome of the fission yeast Schizosaccharomyces pombe: highly homologous introns are inserted at the same position of the otherwise less conserved cox1 genes in Schizosaccharomyces pombe and Aspergillus nidulans', ...), Reference(title='The mitochondrial genome of the fission yeast Schizosaccharomyces pombe. The cytochrome b gene has an intron closely related to the first two introns in the Saccharomyces cerevisiae cox1 gene', ...), Reference(title='The mitochondrial genome of the fission yeast, Schizosaccharomyces pombe. Sequence of the large-subunit ribosomal RNA gene, comparison of potential secondary structure in fungal mitochondrial large-subunit rRNAs and evolutionary considerations', ...), Reference(title='Nucleotide sequence of the gene encoding the small ribosomal RNA in the mitochondrial genome of the fission yeast Schizosaccharomyces pombe', ...), Reference(title='The genome sequence of Schizosaccharomyces pombe', ...), Reference(title='The genome sequence of Schizosaccharomyces pombe', ...), Reference(title='Transcription and RNA-processing in fission yeast mitochondria', ...), Reference(title='Direct Submission', ...), Reference(title='Direct Submission', ...)]\n",
      "/comment=On or before Jan 26, 2012 this sequence version replaced\n",
      "AL672256.4, AL009197.1, AL009227.1, AL021046.4, AL021809.4,\n",
      "AL021813.1, AL021817.2, AL031180.3, AL034486.1, AL034565.1,\n",
      "AL034583.1, AL035064.1, AL035248.2, AL035254.1, AL035439.1,\n",
      "AL096845.1, AL109734.1, AL109738.1, AL109739.1, AL109770.1,\n",
      "AL109820.1, AL109831.1, AL109832.1, AL109951.1, AL109988.1,\n",
      "AL110469.1, AL110509.2, AL117210.1, AL117212.1, AL117213.1,\n",
      "AL117390.1, AL121732.1, AL121741.1, AL121745.2, AL121764.1,\n",
      "AL121765.1, AL121770.1, AL122032.1, AL132667.1, AL132675.1,\n",
      "AL132714.1, AL132769.1, AL132779.2, AL132798.2, AL132828.1,\n",
      "AL132839.1, AL132983.1, AL132984.1, AL133154.2, AL133156.1,\n",
      "AL133157.1, AL133225.2, AL133302.1, AL133357.1, AL133359.1,\n",
      "AL133360.1, AL133361.1, AL133442.1, AL133498.1, AL133521.1,\n",
      "AL133522.1, AL135751.1, AL136078.1, AL136235.1, AL136499.1,\n",
      "AL136521.2, AL136538.1, AL137130.1, AL138666.2, AL138854.1,\n",
      "AL139315.1, AL157734.1, AL157811.1, AL157872.1, AL157917.1,\n",
      "AL157993.1, AL157994.1, AL158056.1, AL159180.1, AL159951.1,\n",
      "AL162531.1, AL162631.1, AL163031.1, AL163071.1, AL163191.2,\n",
      "AL163481.1, AL163529.1, AL353014.1, AL353860.2, AL355012.1,\n",
      "AL355013.1, AL355252.1, AL355452.1, AL355632.1, AL355652.1,\n",
      "AL355653.1, AL356333.1, AL356335.1, AL357232.1, AL358272.1,\n",
      "AL360054.1, AL360094.1, AL390095.1, AL390274.1, AL390814.1,\n",
      "AL391713.1, AL391744.1, AL391746.2, AL391783.1, AL441621.1,\n",
      "AL441624.1, AL512486.1, AL512487.1, AL512491.1, AL512493.1,\n",
      "AL512496.1, AL512549.1, AL512562.1, AL583902.1, AL590562.1,\n",
      "AL590582.1, AL590602.1, AL590605.1, AL590902.2, AL590903.1,\n",
      "AL691401.1, AL691402.1, AL691405.1, Z49811.1, Z50112.1, Z50113.1,\n",
      "Z50142.1, Z50728.2, Z54096.1, Z54142.2, Z54285.2, Z54308.1,\n",
      "Z54328.1, Z54354.1, Z54366.1, Z56276.2, Z64354.1, Z66568.2,\n",
      "Z67757.1, Z67961.2, Z67998.1, Z67999.1, Z68136.2, Z68144.1,\n",
      "Z68166.1, Z68197.2, Z68198.1, Z68887.1, Z69086.1, Z69239.1,\n",
      "Z69240.1, Z69368.1, Z69369.1, Z69380.1, Z69725.1, Z69726.1,\n",
      "Z69727.1, Z69728.1, Z69729.1, Z69730.1, Z69731.1, Z69795.1,\n",
      "Z69796.1, Z69944.1, Z70043.1, Z70690.1, Z70691.1, Z70721.1,\n",
      "Z73099.2, Z73100.2, Z81312.1, Z81317.1, Z94864.1, Z95334.1,\n",
      "Z95395.1, Z95396.2, Z97185.1, Z97208.1, Z97209.1, Z97210.2,\n",
      "Z98056.2, Z98529.1, Z98530.2, Z98531.2, Z98532.1, Z98533.1,\n",
      "Z98559.1, Z98560.1, Z98595.1, Z98596.1, Z98597.1, Z98598.1,\n",
      "Z98600.1, Z98601.1, Z98602.1, Z98603.1, Z98762.1, Z98763.1,\n",
      "Z98849.1, Z98944.1, Z98974.2, Z98975.1, Z98977.4, Z98978.1,\n",
      "Z98979.1, Z98980.1, Z98981.3, Z99091.2, Z99126.1, Z99161.1,\n",
      "Z99162.1, Z99163.2, Z99164.2, Z99165.1, Z99166.1, Z99167.1,\n",
      "Z99168.1, Z99258.1, Z99259.1, Z99260.2, Z99261.1, Z99262.1,\n",
      "Z99292.1, Z99295.1, Z99296.2, Z99531.1, Z99532.2, Z99568.2,\n",
      "Z99753.1.\n",
      "Dseq(-4538)\n",
      "ATCA..ATTG\n",
      "TAGT..TAAC\n"
     ]
    }
   ],
   "source": [
    "from pydna.parsers import parse\n",
    "\n",
    "file_path = \"./CU329670.gb\"\n",
    "files = parse(file_path)\n",
    "\n",
    "# Convert the Dseqrecord object into a formatted string in GenBank format\n",
    "ase1_locus = files[0]\n",
    "print(ase1_locus)"
   ]
  },
  {
   "cell_type": "markdown",
   "metadata": {},
   "source": [
    "## Importing external sequences\n",
    "\n",
    "You can use genbank to get sequences from GenBank files. If you need to get sequences from other sources (AddGene, for instance). Let us know and we can help with that.\n"
   ]
  },
  {
   "cell_type": "code",
   "execution_count": null,
   "metadata": {},
   "outputs": [
    {
     "name": "stdout",
     "output_type": "stream",
     "text": [
      "Dseqrecord\n",
      "circular: True\n",
      "size: 4068724\n",
      "ID: CP001348.1\n",
      "Name: CP001348\n",
      "Description: Ruminiclostridium cellulolyticum H10 chromosome, complete genome\n",
      "Database cross-references: BioProject:PRJNA17419, BioSample:SAMN00623037\n",
      "Number of features: 7582\n",
      "/molecule_type=DNA\n",
      "/topology=circular\n",
      "/data_file_division=BCT\n",
      "/date=25-AUG-2017\n",
      "/accessions=['CP001348', 'AAVC01000000', 'AAVC01000001-AAVC01000121']\n",
      "/sequence_version=1\n",
      "/keywords=['']\n",
      "/source=Ruminiclostridium cellulolyticum H10\n",
      "/organism=Ruminiclostridium cellulolyticum H10\n",
      "/taxonomy=['Bacteria', 'Bacillati', 'Bacillota', 'Clostridia', 'Eubacteriales', 'Oscillospiraceae', 'Ruminiclostridium']\n",
      "/references=[Reference(title='Complete sequence of Clostridium cellulolyticum H10', ...), Reference(title='Direct Submission', ...)]\n",
      "/comment=URL -- http://www.jgi.doe.gov\n",
      "JGI Project ID: 4002584\n",
      "Source DNA and bacteria available from Jizhong Zhou\n",
      "(jzhou@rccc.ou.edu)\n",
      "Contacts: Jizhong Zhou (jzhou@rccc.ou.edu)\n",
      "          David Bruce (microbe@cuba.jgi-psf.org)\n",
      "Annotation done by JGI-ORNL and JGI-PGF\n",
      "Finishing done by JGI-LANL\n",
      "Finished microbial genomes have been curated to close all gaps with\n",
      "greater than 98% coverage of at least two independent clones. Each\n",
      "base pair has a minimum q (quality) value of 30 and the total error\n",
      "rate is less than one per 50000.\n",
      "The JGI and collaborators endorse the principles for the\n",
      "distribution and use of large scale sequencing data adopted by the\n",
      "larger genome sequencing community and urge users of this data to\n",
      "follow them. it is our intention to publish the work of this\n",
      "project in a timely fashion and we welcome collaborative\n",
      "interaction on the project and analysis.\n",
      "(http://www.genome.gov/page.cfm?pageID=10506376).\n",
      "Dseq(o4068724)\n",
      "GTAT..ATAT\n",
      "CATA..TATA\n"
     ]
    }
   ],
   "source": [
    "from pydna.genbank import Genbank\n",
    "\n",
    "# Reading the R. cellulolyticum genome from GenBank\n",
    "gb = Genbank(\"example@example.com\")\n",
    "genome = gb.nucleotide(\"CP001348.1\")\n",
    "\n",
    "print(genome)"
   ]
  },
  {
   "cell_type": "markdown",
   "metadata": {},
   "source": [
    "## Sequence features\n"
   ]
  },
  {
   "cell_type": "markdown",
   "metadata": {},
   "source": [
    "\n",
    "Some sequence file formats (like Genbank) include features, describing key biological properties of sequence regions. Let's look at our previous example in SnapGene:\n",
    "\n",
    "<img src=\"./images/snapgene_screenshot.png\" alt=\"SnapGene screenshot of the U49845 sequence\" style=\"max-width: 600px;\">\n",
    "\n",
    "<br>\n",
    "\n",
    "<img src=\"./images/snapgene_screenshot2.png\" alt=\"SnapGene screenshot of the U49845 sequence\" style=\"max-width: 600px;\">"
   ]
  },
  {
   "cell_type": "markdown",
   "metadata": {},
   "source": [
    "These features can also be seen in the Genbank file. For example, the below text in the Genbank file represents the coding sequence (`CDS`) of the `ase1` gene.\n",
    "\n",
    "Each feature has:\n",
    "\n",
    "* A type (e.g. `CDS`)\n",
    "* A location (e.g. `join(1174..1597,1645..3416)`)\n",
    "* Optionally, some qualifiers ( key-value pairs, e.g. `gene=\"ase1\"`). Features can have multiple qualifiers of the same type.\n",
    "\n",
    "```\n",
    "     CDS             join(1174..1597,1645..3416)\n",
    "                     /gene=\"ase1\"\n",
    "                     /locus_tag=\"SPOM_SPAPB1A10.09\"\n",
    "                     /codon_start=1\n",
    "                     /product=\"antiparallel microtubule cross-linking factor\n",
    "                     Ase1\"\n",
    "                     /protein_id=\"CAC21482.1\"\n",
    "```\n",
    "\n",
    "How do these features look like in the `Dseqrecord` object, and how do we access them? Let's go back to our previous example:\n"
   ]
  },
  {
   "cell_type": "code",
   "execution_count": null,
   "metadata": {},
   "outputs": [
    {
     "name": "stdout",
     "output_type": "stream",
     "text": [
      "type: 3'UTR\n",
      "location: [393:676](+)\n",
      "qualifiers:\n",
      "    Key: locus_tag, Value: ['SPOM_SPAPB1A10.08']\n",
      "\n",
      "type: gene\n",
      "location: [1000:3538](+)\n",
      "qualifiers:\n",
      "    Key: gene, Value: ['ase1']\n",
      "    Key: locus_tag, Value: ['SPOM_SPAPB1A10.09']\n",
      "\n",
      "type: 5'UTR\n",
      "location: [1000:1173](+)\n",
      "qualifiers:\n",
      "    Key: gene, Value: ['ase1']\n",
      "    Key: locus_tag, Value: ['SPOM_SPAPB1A10.09']\n",
      "\n",
      "type: CDS\n",
      "location: join{[1173:1597](+), [1644:3416](+)}\n",
      "qualifiers:\n",
      "    Key: codon_start, Value: ['1']\n",
      "    Key: gene, Value: ['ase1']\n",
      "    Key: locus_tag, Value: ['SPOM_SPAPB1A10.09']\n",
      "    Key: product, Value: ['antiparallel microtubule cross-linking factor Ase1']\n",
      "    Key: protein_id, Value: ['CAC21482.1']\n",
      "    Key: translation, Value: ['MQTVMMDDIQSTDSIAEKDNHSNNESNFTWKAFREQVEKHFSKIERLHQVLGTDGDNSSLFELFTTAMNAQLHEMEQCQKKLEDDCQQRIDSIRFLVSSLKLTDDTSSLKIESPLIQCLNRLSMVEGQYMAQYDQKLSTIKEMYHKLESYCNRLGSPFVLPDFENSFLSDVSDAFTESLRGRINEAEKEIDARLEVINSFEEEILGLWSELGVEPADVPQYEQLLESHTNRPNDVYVTQELIDQLCKQKEVFSAEKEKRSDHLKSIQSEVSNLWNKLQVSPNEQSQFGDSSNINQENISLWETELEKLHQLKKEHLPIFLEDCRQQILQLWDSLFYSEEQRKSFTPMYEDIITEQVLTAHENYIKQLEAEVSANKSFLSLINRYASLIEGKKELEASSNDASRLTQRGRRDPGLLLREEKIRKRLSRELPKVQSLLIPEITAWEERNGRTFLFYDEPLLKICQEATQPKSLYRSASAAANRPKTATTTDSVNRTPSQRGRVAVPSTPSVRSASRAMTSPRTPLPRVKNTQNPSRSISAEPPSATSTANRRHPTANRIDINARLNSASRSRSANMIRQGANGSDSNMSSSPVSGNSNTPFNKFPNSVSRNTHFESKSPHPNYSRTPHETYSKASSKNVPLSPPKQRVVNEHALNIMSEKLQRTNLKEQTPEMDIENSSQNLPFSPMKISPIRASPVKTIPSSPSPTTNIFSAPLNNITNCTPMEDEWGEEGF']\n",
      "\n"
     ]
    }
   ],
   "source": [
    "for feature in ase1_locus.features[5:9]:\n",
    "    print(feature)\n"
   ]
  },
  {
   "cell_type": "code",
   "execution_count": null,
   "metadata": {},
   "outputs": [
    {
     "name": "stdout",
     "output_type": "stream",
     "text": [
      "feature: <class 'Bio.SeqFeature.SeqFeature'>\n",
      "feature.type: <class 'str'>\n",
      "feature.location: <class 'Bio.SeqFeature.CompoundLocation'>\n",
      "feature.qualifiers: <class 'dict'>\n",
      "feature.qualifiers['gene']: <class 'list'>\n"
     ]
    }
   ],
   "source": [
    "# Let's look at the types:\n",
    "\n",
    "print(\"feature:\", type(ase1_locus.features[8]))\n",
    "print(\"feature.type:\", type(ase1_locus.features[8].type))\n",
    "print(\"feature.location:\", type(ase1_locus.features[8].location))\n",
    "print(\"feature.qualifiers:\", type(ase1_locus.features[8].qualifiers))\n",
    "print(\"feature.qualifiers['gene']:\", type(ase1_locus.features[8].qualifiers[\"gene\"]))\n"
   ]
  },
  {
   "cell_type": "markdown",
   "metadata": {},
   "source": [
    "This information is important if we want to extract the sequence of a specific feature, or filter a subset of features to do something with them."
   ]
  },
  {
   "cell_type": "code",
   "execution_count": null,
   "metadata": {},
   "outputs": [
    {
     "name": "stdout",
     "output_type": "stream",
     "text": [
      "length of extracted_locus: 2538\n",
      "number of utr_features: 3\n"
     ]
    }
   ],
   "source": [
    "# Extract the dseqrecord of the locus only\n",
    "# Note how we first check if the key 'gene' is in the qualifiers and then check if the value 'ase1' is in the list of qualifiers['gene'], not equal to \"ase1\"\n",
    "\n",
    "locus_feature = next(feature for feature in ase1_locus.features if 'gene' in feature.qualifiers and \"ase1\" in feature.qualifiers['gene'])\n",
    "\n",
    "# Then we can get a subset of the dseqrecord like this:\n",
    "extracted_locus = locus_feature.extract(ase1_locus)\n",
    "print(\"length of extracted_locus:\", len(extracted_locus))\n",
    "\n",
    "## Another example, getting a subset of features representing the 3' UTRs\n",
    "utr_features = [feature for feature in ase1_locus.features if feature.type == \"3'UTR\"]\n",
    "print(\"number of utr_features:\", len(utr_features))"
   ]
  },
  {
   "cell_type": "markdown",
   "metadata": {},
   "source": [
    "More details on how to work with features in the [Dseq_Features notebook](./Dseq_Features.ipynb)."
   ]
  },
  {
   "cell_type": "markdown",
   "metadata": {},
   "source": [
    "## Cloning"
   ]
  },
  {
   "cell_type": "markdown",
   "metadata": {},
   "source": [
    "pydna has multiple functions to simulate cloning, having support for the following methods:\n",
    "* Gibson Assembly\n",
    "* Restriction and Ligation / Golgen gate\n",
    "* Homologous recombination\n",
    "* CRISPR-Cas9 (ask the organisers if you plan to use it)\n",
    "* Gateway Cloning\n",
    "* Cre-Lox recombination"
   ]
  },
  {
   "cell_type": "markdown",
   "metadata": {},
   "source": [
    "### Restriction and ligation\n",
    "\n",
    "There are several ways to do restriction and ligation in pydna. You can first do the restriction, pick the fragments for ligation, then do the ligation. You can also do everything in one step. The second method is relatively new, so most examples in the library use the first method.\n",
    "\n",
    "Let's do an example in which we clone an insert into a backbone plasmid.\n"
   ]
  },
  {
   "cell_type": "markdown",
   "metadata": {},
   "source": [
    "#### Using the first method (first restriction, then ligation)"
   ]
  },
  {
   "cell_type": "code",
   "execution_count": null,
   "metadata": {},
   "outputs": [
    {
     "name": "stdout",
     "output_type": "stream",
     "text": [
      "The first one is the cutout - we discard it\n",
      "Dseq(-13)\n",
      "AATTCcccG\n",
      "    GgggCAGCT\n",
      "\n",
      "The second one is the digested backbone - we keep it\n",
      "Dseq(-19)\n",
      "TCGACaaaaaaaaaG\n",
      "    GtttttttttCTTAA\n"
     ]
    }
   ],
   "source": [
    "## Using the first method\n",
    "from Bio.Restriction import EcoRI, SalI\n",
    "\n",
    "\n",
    "# A dummy backbone plasmid, let's assume that we want to replace the\n",
    "# cccc by our insert.\n",
    "backbone = Dseqrecord('aaaaaaaGAATTCcccGTCGACaa', circular=True)\n",
    "\n",
    "restriction_products = backbone.cut([EcoRI, SalI])\n",
    "# We print the products\n",
    "print('The first one is the cutout - we discard it')\n",
    "print(repr(restriction_products[0].seq))\n",
    "print()\n",
    "print('The second one is the digested backbone - we keep it')\n",
    "print(repr(restriction_products[1].seq))\n",
    "\n",
    "digested_backbone = restriction_products[1]\n"
   ]
  },
  {
   "cell_type": "markdown",
   "metadata": {},
   "source": [
    "Now we do the same with the insert"
   ]
  },
  {
   "cell_type": "code",
   "execution_count": null,
   "metadata": {},
   "outputs": [
    {
     "data": {
      "text/plain": [
       "Dseq(-16)\n",
       "AATTCaaaccgG\n",
       "    GtttggcCAGCT"
      ]
     },
     "execution_count": null,
     "metadata": {},
     "output_type": "execute_result"
    }
   ],
   "source": [
    "insert = Dseqrecord('aaGAATTCaaaccgGTCGACaa')\n",
    "restriction_products = insert.cut([EcoRI, SalI])\n",
    "\n",
    "# The second one is the one we want\n",
    "digested_insert = restriction_products[1]\n",
    "\n",
    "digested_insert.seq\n"
   ]
  },
  {
   "cell_type": "markdown",
   "metadata": {},
   "source": [
    "Finally we ligate the products, and then circularize"
   ]
  },
  {
   "cell_type": "code",
   "execution_count": null,
   "metadata": {},
   "outputs": [
    {
     "data": {
      "text/plain": [
       "Dseq(o27)\n",
       "AATTCaaaccgGTCGACaaaaaaaaaG\n",
       "TTAAGtttggcCAGCTGtttttttttC"
      ]
     },
     "execution_count": null,
     "metadata": {},
     "output_type": "execute_result"
    }
   ],
   "source": [
    "# They have to be in the right order, and fragments must be complementary\n",
    "linear_ligation = digested_insert + digested_backbone\n",
    "\n",
    "# Then we used the function looped to circularize\n",
    "# IMPORTANT: this functions does not act in place, it returns a new sequence.\n",
    "\n",
    "desired_plasmid = linear_ligation.looped()\n",
    "\n",
    "desired_plasmid.seq"
   ]
  },
  {
   "cell_type": "markdown",
   "metadata": {},
   "source": [
    "#### Using the second method (restriciton-ligation in one step)\n",
    "\n",
    "This is particularly useful for restriction-ligation reactions with many inputs, for example for Golden Gate.\n"
   ]
  },
  {
   "cell_type": "code",
   "execution_count": null,
   "metadata": {},
   "outputs": [
    {
     "name": "stdout",
     "output_type": "stream",
     "text": [
      "The first plasmid is the desired one\n",
      "Dseq(o27)\n",
      "TCGACaaaaaaaaaGAATTCaaaccgG\n",
      "AGCTGtttttttttCTTAAGtttggcC\n",
      "\n",
      "The second one is a circularization of the digested insert and the cutout\n",
      "Dseq(o21)\n",
      "AATTCcccGTCGACcggtttG\n",
      "TTAAGgggCAGCTGgccaaaC\n"
     ]
    }
   ],
   "source": [
    "from pydna.assembly2 import restriction_ligation_assembly\n",
    "\n",
    "# We indicate that we only want circular products\n",
    "products = restriction_ligation_assembly([backbone, insert], [EcoRI, SalI], circular_only=True)\n",
    "\n",
    "print(\"The first plasmid is the desired one\")\n",
    "print(repr(products[0].seq))\n",
    "print()\n",
    "print(\"The second one is a circularization of the digested insert and the cutout\")\n",
    "print(repr(products[1].seq))"
   ]
  },
  {
   "cell_type": "markdown",
   "metadata": {},
   "source": [
    "### PCR\n",
    "\n",
    "Using pydna, you can easily simulate PCR. For details on primer design, visit [the documentation](https://pydna-group.github.io/pydna/markdown_notebooks/PCR.html)."
   ]
  },
  {
   "cell_type": "code",
   "execution_count": null,
   "metadata": {},
   "outputs": [
    {
     "name": "stdout",
     "output_type": "stream",
     "text": [
      "aaaATTCCTGCAGAGTACATCaaaccggttAAGATATCTTCGGATGGTggg\n",
      "   5ATTCCTGCAGAGTACATC...AAGATATCTTCGGATGGT3\n",
      "                         ||||||||||||||||||\n",
      "                        3TTCTATAGAAGCCTACCAccc5\n",
      "5aaaATTCCTGCAGAGTACATC3\n",
      "    ||||||||||||||||||\n",
      "   3TAAGGACGTCTCATGTAG...TTCTATAGAAGCCTACCA5\n"
     ]
    }
   ],
   "source": [
    "from pydna.amplify import pcr\n",
    "from pydna.dseqrecord import Dseqrecord\n",
    "from pydna.primer import Primer\n",
    "\n",
    "#Defining forward and reverse primers\n",
    "fwd_primer = Primer(\"aaaATTCCTGCAGAGTACATC\", id=\"fwd_primer\")\n",
    "rvs_primer = Primer(\"cccACCATCCGAAGATATCTT\", id=\"rvs_primer\")\n",
    "\n",
    "template = Dseqrecord(\"gccATTCCTGCAGAGTACATCaaaccggttAAGATATCTTCGGATGGTatta\")\n",
    "\n",
    "pcr_product = pcr(fwd_primer, rvs_primer, template)\n",
    "print(pcr_product.seq)\n",
    "print(pcr_product.figure())\n"
   ]
  },
  {
   "cell_type": "markdown",
   "metadata": {},
   "source": [
    "### Gibson Assembly\n",
    "\n",
    "See below a dummy example of Gibson Assembly. More details on primer design, etc. in [the documentation examples](https://pydna-group.github.io/pydna/markdown_notebooks/Example_Gibson.html).\n",
    "\n",
    "Equivalent methods, such as in-fusion and fusion-pcr are also available.\n",
    "\n",
    "In vivo assembly is also available. The difference is that a Gibson Assembly only joins fragments that have terminal overlaps (at the end of the fragments), but the in vivo assembly (which relies on homologous recombination) can join fragments that have non-terminal overlaps.\n"
   ]
  },
  {
   "cell_type": "code",
   "execution_count": null,
   "metadata": {},
   "outputs": [
    {
     "data": {
      "text/plain": [
       "Dseq(o20)\n",
       "GTCGACTaaaAGAGACCcgc\n",
       "CAGCTGAtttTCTCTGGgcg"
      ]
     },
     "execution_count": null,
     "metadata": {},
     "output_type": "execute_result"
    }
   ],
   "source": [
    "from pydna.assembly2 import gibson_assembly\n",
    "\n",
    "fragment1 = Dseqrecord(\"GTCGACTaaaAGAGACC\")\n",
    "fragment2 = Dseqrecord(\"AGAGACCcgcGTCGACT\")\n",
    "\n",
    "\n",
    "# In the funtion, we specify the fragments and the minimum overlap length,\n",
    "# for this example, we want a minimum overlap of 7 bp.\n",
    "products = gibson_assembly([fragment1, fragment2], limit=7)\n",
    "products[0].seq\n"
   ]
  },
  {
   "cell_type": "markdown",
   "metadata": {},
   "source": [
    "### Genome integration / excision\n",
    "\n",
    "Homologous recombination, Cre-Lox recombination and other methods that are normally used on genomes have special arguments\n",
    "\n",
    "Insertions take a first `Dseqrecord` object with the genome, and a list of `Dseqrecord` objects with the fragments to integrate / excise.\n",
    "\n",
    "Excisions take a single `Dseqrecord` object with the genome from which to excise a circular DNA molecule.\n",
    "\n",
    "Let's take an example for homologous recombination. In which we want to integrate a plasmid into the genome via a single homology site:\n"
   ]
  },
  {
   "cell_type": "code",
   "execution_count": null,
   "metadata": {},
   "outputs": [
    {
     "data": {
      "text/plain": [
       "Dseq(-30)\n",
       "aaaCGTACGCACAccccCGTACGCACAaaa\n",
       "tttGCATGCGTGTggggGCATGCGTGTttt"
      ]
     },
     "execution_count": null,
     "metadata": {},
     "output_type": "execute_result"
    }
   ],
   "source": [
    "from pydna.assembly2 import homologous_recombination_integration\n",
    "\n",
    "genome = Dseqrecord('aaaCGTACGCACAaaa')\n",
    "plasmid = Dseqrecord('CGTACGCACAcccc', circular=True)\n",
    "\n",
    "products = homologous_recombination_integration(genome, [plasmid], limit=10)\n",
    "\n",
    "transformed_genome = products[0]\n",
    "transformed_genome.seq\n",
    "\n"
   ]
  },
  {
   "cell_type": "markdown",
   "metadata": {},
   "source": [
    "We can also simulate the opposite process, an excission, and recover the original inputs (plasmid and gneome)"
   ]
  },
  {
   "cell_type": "code",
   "execution_count": null,
   "metadata": {},
   "outputs": [
    {
     "name": "stdout",
     "output_type": "stream",
     "text": [
      "CGTACGCACAcccc\n",
      "aaaCGTACGCACAaaa\n"
     ]
    }
   ],
   "source": [
    "from pydna.assembly2 import homologous_recombination_excision\n",
    "\n",
    "products = homologous_recombination_excision(transformed_genome, limit=10)\n",
    "\n",
    "print(products[0].seq)\n",
    "print(products[1].seq)"
   ]
  },
  {
   "cell_type": "markdown",
   "metadata": {},
   "source": [
    "### Other cloning methods\n",
    "\n",
    "You can find most other cloning methods at the bottom of the [documentation page of the assemmbly2 module](https://pydna-group.github.io/pydna/modules/pydna_assembly2.html)."
   ]
  },
  {
   "cell_type": "markdown",
   "metadata": {},
   "source": [
    "## Sequence equality\n",
    "\n",
    "Sometimes, you may want to check if two double-stranded sequences are equal. Comparing the sequence strings is not great, because they could be reverse-complemented, and for circular molecules, they might be shifted. Pydna comes with a function that produces a unique string for a given sequence, independently of its orientation or rotation (for circular DNA)."
   ]
  },
  {
   "cell_type": "code",
   "execution_count": null,
   "metadata": {},
   "outputs": [
    {
     "name": "stdout",
     "output_type": "stream",
     "text": [
      "AAGGTC cdseguid=J56O6n-fwbT2-SLlxCMBVDjXzKg\n",
      "GTCAAG cdseguid=J56O6n-fwbT2-SLlxCMBVDjXzKg\n",
      "CTTGAC cdseguid=J56O6n-fwbT2-SLlxCMBVDjXzKg\n"
     ]
    }
   ],
   "source": [
    "my_plasmid = Dseqrecord('AAGGTC', circular=True)\n",
    "my_plasmid_rotated = my_plasmid.shifted(3)\n",
    "my_plasmid_rotated_rc = my_plasmid_rotated.reverse_complement()\n",
    "\n",
    "print(my_plasmid.seq, my_plasmid.seguid())\n",
    "print(my_plasmid_rotated.seq, my_plasmid_rotated.seguid())\n",
    "print(my_plasmid_rotated_rc.seq, my_plasmid_rotated_rc.seguid())\n",
    "\n"
   ]
  }
 ],
 "metadata": {
  "kernelspec": {
   "display_name": ".venv",
   "language": "python",
   "name": "python3"
  },
  "language_info": {
   "codemirror_mode": {
    "name": "ipython",
    "version": 3
   },
   "file_extension": ".py",
   "mimetype": "text/x-python",
   "name": "python",
   "nbconvert_exporter": "python",
   "pygments_lexer": "ipython3",
   "version": "3.12.11"
  }
 },
 "nbformat": 4,
 "nbformat_minor": 2
}
