{
 "cells": [
  {
   "cell_type": "code",
   "execution_count": null,
   "id": "0",
   "metadata": {},
   "outputs": [],
   "source": [
    "import os\n",
    "from pydna.dseqrecord import Dseqrecord\n",
    "from pydna.assembly2 import (\n",
    "    golden_gate_assembly,\n",
    "    gibson_assembly,\n",
    "    ligation_assembly,\n",
    "    gateway_assembly,\n",
    "    homologous_recombination_integration,\n",
    "    homologous_recombination_excision,\n",
    "    cre_lox_integration,\n",
    "    cre_lox_excision,\n",
    "    pcr_assembly,\n",
    ")\n",
    "\n",
    "from Bio.Restriction import BsaI, EcoRI, SalI\n",
    "from pydna.parsers import parse_snapgene\n",
    "from pydna.opencloning_models import CloningStrategy\n",
    "from pydna.primer import Primer\n",
    "from Bio.Seq import reverse_complement\n"
   ]
  },
  {
   "cell_type": "markdown",
   "id": "1",
   "metadata": {},
   "source": [
    "## Golden Gate assembly (BsaI)\n",
    "This section assembles three inserts into a circular vector using Golden Gate with BsaI and exports the design as JSON.\n"
   ]
  },
  {
   "cell_type": "code",
   "execution_count": null,
   "id": "2",
   "metadata": {},
   "outputs": [
    {
     "name": "stdout",
     "output_type": "stream",
     "text": [
      "╙── product (Dseqrecord(o39))\n",
      "    └─╼ RestrictionAndLigationSource\n",
      "        ├─╼ insert1 (Dseqrecord(-27))\n",
      "        ├─╼ insert2 (Dseqrecord(-27))\n",
      "        ├─╼ insert3 (Dseqrecord(-27))\n",
      "        └─╼ vector (Dseqrecord(o35))\n"
     ]
    }
   ],
   "source": [
    "insert1 = Dseqrecord(\"GGTCTCAattaAAAAAttaaAGAGACC\", name=\"insert1\")\n",
    "insert2 = Dseqrecord(\"GGTCTCAttaaCCCCCatatAGAGACC\", name=\"insert2\")\n",
    "insert3 = Dseqrecord(\"GGTCTCAatatGGGGGccggAGAGACC\", name=\"insert3\")\n",
    "\n",
    "vector = Dseqrecord(\"TTTTattaAGAGACCTTTTTGGTCTCAccggTTTT\", circular=True, name=\"vector\")\n",
    "\n",
    "product, *_ = golden_gate_assembly(\n",
    "    [insert1, insert2, insert3, vector], [BsaI], circular_only=True\n",
    ")\n",
    "product.name = \"product\"\n",
    "\n",
    "cs = CloningStrategy.from_dseqrecord(product)\n",
    "\n",
    "with open(\"golden_gate.json\", \"w\") as f:\n",
    "    f.write(cs.model_dump_json())\n",
    "\n",
    "CloningStrategy.model_validate(cs.model_dump())\n",
    "\n",
    "product.history()\n"
   ]
  },
  {
   "cell_type": "markdown",
   "id": "3",
   "metadata": {},
   "source": [
    "## Gibson assembly\n",
    "This section assembles three linear fragments using Gibson assembly and serializes the resulting product to JSON.\n"
   ]
  },
  {
   "cell_type": "code",
   "execution_count": null,
   "id": "4",
   "metadata": {},
   "outputs": [
    {
     "name": "stdout",
     "output_type": "stream",
     "text": [
      "╙── product (Dseqrecord(o34))\n",
      "    └─╼ GibsonAssemblySource\n",
      "        ├─╼ fragment1 (Dseqrecord(-21))\n",
      "        ├─╼ fragment2 (Dseqrecord(-12))\n",
      "        └─╼ fragment3 (Dseqrecord(-13))\n",
      "None\n"
     ]
    }
   ],
   "source": [
    "fragments = [\n",
    "    Dseqrecord(\"TTTTacgatAAtgctccCCCC\", circular=False, name=\"fragment1\"),\n",
    "    Dseqrecord(\"CCCCtcatGGGG\", circular=False, name=\"fragment2\"),\n",
    "    Dseqrecord(\"GGGGatataTTTT\", circular=False, name=\"fragment3\"),\n",
    "]\n",
    "\n",
    "product, *_ = gibson_assembly(fragments, limit=4)\n",
    "product.name = \"product\"\n",
    "\n",
    "cs = CloningStrategy.from_dseqrecord(product)\n",
    "with open(\"gibson.json\", \"w\") as f:\n",
    "    f.write(cs.model_dump_json())\n",
    "\n",
    "print(product.history())\n"
   ]
  },
  {
   "cell_type": "markdown",
   "id": "5",
   "metadata": {},
   "source": [
    "## Restriction, then ligation assembly (EcoRI/SalI)\n",
    "This section cuts a template with EcoRI and SalI, ligates compatible fragments, and exports the result as JSON.\n"
   ]
  },
  {
   "cell_type": "code",
   "execution_count": null,
   "id": "6",
   "metadata": {},
   "outputs": [
    {
     "ename": "AttributeError",
     "evalue": "'_io.TextIOWrapper' object has no attribute 'history'",
     "output_type": "error",
     "traceback": [
      "\u001b[31m---------------------------------------------------------------------------\u001b[39m",
      "\u001b[31mAttributeError\u001b[39m                            Traceback (most recent call last)",
      "\u001b[36mCell\u001b[39m\u001b[36m \u001b[39m\u001b[32mIn[13]\u001b[39m\u001b[32m, line 18\u001b[39m\n\u001b[32m     15\u001b[39m \u001b[38;5;28;01mwith\u001b[39;00m \u001b[38;5;28mopen\u001b[39m(\u001b[33m\"\u001b[39m\u001b[33mrestriction_ligation.json\u001b[39m\u001b[33m\"\u001b[39m, \u001b[33m\"\u001b[39m\u001b[33mw\u001b[39m\u001b[33m\"\u001b[39m) \u001b[38;5;28;01mas\u001b[39;00m f:\n\u001b[32m     16\u001b[39m     f.write(cs.model_dump_json())\n\u001b[32m---> \u001b[39m\u001b[32m18\u001b[39m \u001b[38;5;28mprint\u001b[39m(\u001b[43mf\u001b[49m\u001b[43m.\u001b[49m\u001b[43mhistory\u001b[49m())\n",
      "\u001b[31mAttributeError\u001b[39m: '_io.TextIOWrapper' object has no attribute 'history'"
     ]
    }
   ],
   "source": [
    "a = Dseqrecord(\"aaGAATTCccGTCGACaa\")\n",
    "\n",
    "c, d, e = a.cut(EcoRI, SalI)\n",
    "\n",
    "product, *_ = ligation_assembly([c, d, e])\n",
    "\n",
    "a.name = \"a\"\n",
    "c.name = \"c\"\n",
    "d.name = \"d\"\n",
    "e.name = \"e\"\n",
    "product.name = \"product\"\n",
    "\n",
    "cs = CloningStrategy.from_dseqrecord(product)\n",
    "\n",
    "with open(\"restriction_ligation.json\", \"w\") as f:\n",
    "    f.write(cs.model_dump_json())\n",
    "\n",
    "print(f.history())"
   ]
  },
  {
   "cell_type": "markdown",
   "id": "7",
   "metadata": {},
   "source": [
    "### Gateway assembly (BP and LR)\n",
    "This section creates an Entry vector via BP reaction, then generates an Expression clone via LR reaction using test SnapGene files.\n"
   ]
  },
  {
   "cell_type": "code",
   "execution_count": null,
   "id": "8",
   "metadata": {},
   "outputs": [],
   "source": [
    "test_files = \"tests\"\n",
    "\n",
    "line = \"pDONRtm221.dna\tpcr_product-attP1_1-attP2_1.dna\tentry-attP1_1-attP2_1.dna\tpET-53-DESTtm.dna\texpression-attP1_1-attP2_1.dna\".split(\n",
    "    \"\\t\"\n",
    ")\n",
    "backbone, pcr_product, _, backbone_expression, _ = line\n",
    "backbone = parse_snapgene(os.path.join(\"tests/gateway_manual_cloning/\" + backbone))[0]\n",
    "pcr_product = parse_snapgene(\n",
    "    os.path.join(\"tests/gateway_manual_cloning/\" + pcr_product)\n",
    ")[0]\n",
    "backbone_expression = parse_snapgene(\n",
    "    os.path.join(\"tests/gateway_manual_cloning/\" + backbone_expression)\n",
    ")[0]\n",
    "\n",
    "# Works with the right reaction\n",
    "entry_vector = gateway_assembly(\n",
    "    [backbone, pcr_product], \"BP\", multi_site_only=True, circular_only=True\n",
    ")[0]\n",
    "\n",
    "expression_clone, _ = gateway_assembly(\n",
    "    [backbone_expression, entry_vector], \"LR\", multi_site_only=True, circular_only=True\n",
    ")\n",
    "\n",
    "cs = CloningStrategy.from_dseqrecord(expression_clone)\n",
    "with open(\"gateway.json\", \"w\") as f:\n",
    "    f.write(cs.model_dump_json())\n"
   ]
  },
  {
   "cell_type": "markdown",
   "id": "9",
   "metadata": {},
   "source": [
    "## Homologous recombination integration\n",
    "This section performs homologous recombination integration of two inserts into a genome and exports the result as JSON."
   ]
  },
  {
   "cell_type": "code",
   "execution_count": null,
   "id": "10",
   "metadata": {},
   "outputs": [],
   "source": [
    "homology = \"AAGTCCGTTCGTTTTACCTG\"\n",
    "genome = Dseqrecord(f\"aaaaaa{homology}ccccc{homology}aaaaaa\")\n",
    "insert = Dseqrecord(f\"{homology}gggg{homology}\")\n",
    "integration_product, *_ = homologous_recombination_integration(genome, [insert], 20)\n",
    "\n",
    "excision_product, *_ = homologous_recombination_excision(integration_product, 20)\n",
    "\n",
    "cs = CloningStrategy.from_dseqrecord(excision_product)\n",
    "with open(\"homologous_recombination.json\", \"w\") as f:\n",
    "    f.write(cs.model_dump_json())\n"
   ]
  },
  {
   "cell_type": "markdown",
   "id": "11",
   "metadata": {},
   "source": [
    "## Cre-lox integration\n",
    "This section performs Cre-lox integration , then excision."
   ]
  },
  {
   "cell_type": "code",
   "execution_count": null,
   "id": "12",
   "metadata": {},
   "outputs": [],
   "source": [
    "from pydna.cre_lox import LOXP_SEQUENCE\n",
    "a = Dseqrecord(f\"cccccc{LOXP_SEQUENCE}aaaaa\")\n",
    "b = Dseqrecord(f\"{LOXP_SEQUENCE}bbbbb\", circular=True)\n",
    "integration_product, *_ = cre_lox_integration(a, [b])\n",
    "excision_product, *_ = cre_lox_excision(integration_product)\n",
    "\n",
    "cs = CloningStrategy.from_dseqrecord(excision_product)\n",
    "with open(\"cre_lox.json\", \"w\") as f:\n",
    "    f.write(cs.model_dump_json())\n",
    "\n"
   ]
  },
  {
   "cell_type": "markdown",
   "id": "13",
   "metadata": {},
   "source": [
    "## PCR assembly\n",
    "This section performs PCR assembly and exports the result as JSON.\n"
   ]
  },
  {
   "cell_type": "code",
   "execution_count": null,
   "id": "14",
   "metadata": {},
   "outputs": [],
   "source": [
    "primer1 = Primer(\"ACGTACGT\")\n",
    "primer2 = Primer(reverse_complement(\"GCGCGCGC\"))\n",
    "\n",
    "seq = Dseqrecord(\"ccccACGTACGTAAAAAAGCGCGCGCcccc\")\n",
    "\n",
    "prod, *_ = pcr_assembly(seq, primer1, primer2, limit=8)\n",
    "\n",
    "cs = CloningStrategy.from_dseqrecord(prod)\n",
    "\n",
    "with open(\"pcr.json\", \"w\") as f:\n",
    "    f.write(cs.model_dump_json())"
   ]
  }
 ],
 "metadata": {
  "kernelspec": {
   "display_name": ".venv",
   "language": "python",
   "name": "python3"
  },
  "language_info": {
   "codemirror_mode": {
    "name": "ipython",
    "version": 3
   },
   "file_extension": ".py",
   "mimetype": "text/x-python",
   "name": "python",
   "nbconvert_exporter": "python",
   "pygments_lexer": "ipython3",
   "version": "3.12.2"
  }
 },
 "nbformat": 4,
 "nbformat_minor": 5
}
