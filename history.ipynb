{
 "cells": [
  {
   "cell_type": "markdown",
   "id": "0",
   "metadata": {},
   "source": [
    "<a target=\"_blank\" href=\"https://colab.research.google.com/github/pydna-group/pydna/blob/cloning-history/history.ipynb\">\n",
    "  <img src=\"https://colab.research.google.com/assets/colab-badge.svg\" alt=\"Open In Colab\"/>\n",
    "</a>"
   ]
  },
  {
   "cell_type": "code",
   "execution_count": null,
   "id": "1",
   "metadata": {},
   "outputs": [],
   "source": [
    "%%capture\n",
    "# Install pydna (only when running on Colab)\n",
    "import sys\n",
    "if 'google.colab' in sys.modules:\n",
    "    %pip install \"git+https://github.com/pydna-group/pydna.git@cloning-history#egg=pydna[clipboard,download,express,gel]\"\n",
    "    # Use curl to get the files for gateway:\n",
    "    !curl -LO \"https://github.com/pydna-group/pydna/raw/master/tests/gateway_manual_cloning/pDONRtm221.dna\"\n",
    "    !curl -LO \"https://github.com/pydna-group/pydna/raw/master/tests/gateway_manual_cloning/pcr_product-attP1_1-attP2_1.dna\"\n",
    "    !curl -LO \"https://github.com/pydna-group/pydna/raw/master/tests/gateway_manual_cloning/pET-53-DESTtm.dna\"\n",
    "    # Move files to tests/gateway_manual_cloning\n",
    "    !mkdir -p tests/gateway_manual_cloning\n",
    "    !mv pDONRtm221.dna tests/gateway_manual_cloning/\n",
    "    !mv pcr_product-attP1_1-attP2_1.dna tests/gateway_manual_cloning/\n",
    "    !mv pET-53-DESTtm.dna tests/gateway_manual_cloning/\n"
   ]
  },
  {
   "cell_type": "code",
   "execution_count": null,
   "id": "2",
   "metadata": {},
   "outputs": [],
   "source": [
    "import os\n",
    "from pydna.dseqrecord import Dseqrecord\n",
    "from pydna.assembly2 import (\n",
    "    golden_gate_assembly,\n",
    "    gibson_assembly,\n",
    "    ligation_assembly,\n",
    "    gateway_assembly,\n",
    "    homologous_recombination_integration,\n",
    "    homologous_recombination_excision,\n",
    "    cre_lox_integration,\n",
    "    cre_lox_excision,\n",
    "    pcr_assembly,\n",
    ")\n",
    "\n",
    "from Bio.Restriction import BsaI, EcoRI, SalI\n",
    "from pydna.parsers import parse_snapgene\n",
    "from pydna.opencloning_models import CloningStrategy\n",
    "from pydna.primer import Primer\n",
    "from Bio.Seq import reverse_complement\n"
   ]
  },
  {
   "cell_type": "markdown",
   "id": "3",
   "metadata": {},
   "source": [
    "## Golden Gate assembly (BsaI)\n",
    "This section assembles three inserts into a circular vector using Golden Gate with BsaI and exports the design as JSON.\n"
   ]
  },
  {
   "cell_type": "code",
   "execution_count": null,
   "id": "4",
   "metadata": {},
   "outputs": [
    {
     "name": "stdout",
     "output_type": "stream",
     "text": [
      "╙── product (Dseqrecord(o39))\n",
      "    └─╼ RestrictionAndLigationSource\n",
      "        ├─╼ insert1 (Dseqrecord(-27))\n",
      "        ├─╼ insert2 (Dseqrecord(-27))\n",
      "        ├─╼ insert3 (Dseqrecord(-27))\n",
      "        └─╼ vector (Dseqrecord(o35))\n"
     ]
    }
   ],
   "source": [
    "insert1 = Dseqrecord(\"GGTCTCAattaAAAAAttaaAGAGACC\", name=\"insert1\")\n",
    "insert2 = Dseqrecord(\"GGTCTCAttaaCCCCCatatAGAGACC\", name=\"insert2\")\n",
    "insert3 = Dseqrecord(\"GGTCTCAatatGGGGGccggAGAGACC\", name=\"insert3\")\n",
    "\n",
    "vector = Dseqrecord(\"TTTTattaAGAGACCTTTTTGGTCTCAccggTTTT\", circular=True, name=\"vector\")\n",
    "\n",
    "product, *_ = golden_gate_assembly(\n",
    "    [insert1, insert2, insert3, vector], [BsaI], circular_only=True\n",
    ")\n",
    "product.name = \"product\"\n",
    "\n",
    "cs = CloningStrategy.from_dseqrecord(product)\n",
    "\n",
    "with open(\"golden_gate.json\", \"w\") as f:\n",
    "    f.write(cs.model_dump_json())\n",
    "\n",
    "CloningStrategy.model_validate(cs.model_dump())\n",
    "\n",
    "product.history()\n"
   ]
  },
  {
   "cell_type": "markdown",
   "id": "5",
   "metadata": {},
   "source": [
    "## Gibson assembly\n",
    "This section assembles three linear fragments using Gibson assembly and serializes the resulting product to JSON.\n"
   ]
  },
  {
   "cell_type": "code",
   "execution_count": null,
   "id": "6",
   "metadata": {},
   "outputs": [
    {
     "name": "stdout",
     "output_type": "stream",
     "text": [
      "╙── product (Dseqrecord(o34))\n",
      "    └─╼ GibsonAssemblySource\n",
      "        ├─╼ fragment1 (Dseqrecord(-21))\n",
      "        ├─╼ fragment2 (Dseqrecord(-12))\n",
      "        └─╼ fragment3 (Dseqrecord(-13))\n"
     ]
    }
   ],
   "source": [
    "fragments = [\n",
    "    Dseqrecord(\"TTTTacgatAAtgctccCCCC\", circular=False, name=\"fragment1\"),\n",
    "    Dseqrecord(\"CCCCtcatGGGG\", circular=False, name=\"fragment2\"),\n",
    "    Dseqrecord(\"GGGGatataTTTT\", circular=False, name=\"fragment3\"),\n",
    "]\n",
    "\n",
    "product, *_ = gibson_assembly(fragments, limit=4)\n",
    "product.name = \"product\"\n",
    "\n",
    "cs = CloningStrategy.from_dseqrecord(product)\n",
    "with open(\"gibson.json\", \"w\") as f:\n",
    "    f.write(cs.model_dump_json())\n",
    "\n",
    "product.history()\n"
   ]
  },
  {
   "cell_type": "markdown",
   "id": "7",
   "metadata": {},
   "source": [
    "## Restriction, then ligation assembly (EcoRI/SalI)\n",
    "This section cuts a template with EcoRI and SalI, ligates compatible fragments, and exports the result as JSON.\n"
   ]
  },
  {
   "cell_type": "code",
   "execution_count": null,
   "id": "8",
   "metadata": {},
   "outputs": [
    {
     "name": "stdout",
     "output_type": "stream",
     "text": [
      "╙── product (Dseqrecord(-18))\n",
      "    └─╼ LigationSource\n",
      "        ├─╼ c (Dseqrecord(-7))\n",
      "        │   └─╼ Source\n",
      "        │       └─╼ a (Dseqrecord(-18)) ╾ Source, Source\n",
      "        ├─╼ d (Dseqrecord(-12))\n",
      "        │   └─╼ Source\n",
      "        │       └─╼  ...\n",
      "        └─╼ e (Dseqrecord(-7))\n",
      "            └─╼ Source\n",
      "                └─╼  ...\n"
     ]
    }
   ],
   "source": [
    "a = Dseqrecord(\"aaGAATTCccGTCGACaa\")\n",
    "\n",
    "c, d, e = a.cut(EcoRI, SalI)\n",
    "\n",
    "product, *_ = ligation_assembly([c, d, e])\n",
    "\n",
    "a.name = \"a\"\n",
    "c.name = \"c\"\n",
    "d.name = \"d\"\n",
    "e.name = \"e\"\n",
    "product.name = \"product\"\n",
    "\n",
    "cs = CloningStrategy.from_dseqrecord(product)\n",
    "\n",
    "with open(\"restriction_ligation.json\", \"w\") as f:\n",
    "    f.write(cs.model_dump_json())\n",
    "\n",
    "product.history()"
   ]
  },
  {
   "cell_type": "markdown",
   "id": "9",
   "metadata": {},
   "source": [
    "### Gateway assembly (BP and LR)\n",
    "This section creates an Entry vector via BP reaction, then generates an Expression clone via LR reaction using test SnapGene files.\n"
   ]
  },
  {
   "cell_type": "code",
   "execution_count": null,
   "id": "10",
   "metadata": {},
   "outputs": [
    {
     "name": "stdout",
     "output_type": "stream",
     "text": [
      "╙── expression_clone (Dseqrecord(o7423))\n",
      "    └─╼ GatewaySource\n",
      "        ├─╼ backbone_expression (Dseqrecord(o6832))\n",
      "        └─╼ entry_vector (Dseqrecord(o4790))\n",
      "            └─╼ GatewaySource\n",
      "                ├─╼ backbone (Dseqrecord(o4761))\n",
      "                └─╼ pcr_product (Dseqrecord(-2304))\n"
     ]
    }
   ],
   "source": [
    "test_files = \"tests\"\n",
    "\n",
    "line = \"pDONRtm221.dna\tpcr_product-attP1_1-attP2_1.dna\tentry-attP1_1-attP2_1.dna\tpET-53-DESTtm.dna\texpression-attP1_1-attP2_1.dna\".split(\n",
    "    \"\\t\"\n",
    ")\n",
    "backbone, pcr_product, _, backbone_expression, _ = line\n",
    "backbone = parse_snapgene(os.path.join(\"tests/gateway_manual_cloning/\" + backbone))[0]\n",
    "pcr_product = parse_snapgene(\n",
    "    os.path.join(\"tests/gateway_manual_cloning/\" + pcr_product)\n",
    ")[0]\n",
    "backbone_expression = parse_snapgene(\n",
    "    os.path.join(\"tests/gateway_manual_cloning/\" + backbone_expression)\n",
    ")[0]\n",
    "\n",
    "# Works with the right reaction\n",
    "entry_vector = gateway_assembly(\n",
    "    [backbone, pcr_product], \"BP\", multi_site_only=True, circular_only=True\n",
    ")[0]\n",
    "\n",
    "expression_clone, _ = gateway_assembly(\n",
    "    [backbone_expression, entry_vector], \"LR\", multi_site_only=True, circular_only=True\n",
    ")\n",
    "\n",
    "expression_clone.name = \"expression_clone\"\n",
    "backbone_expression.name = \"backbone_expression\"\n",
    "entry_vector.name = \"entry_vector\"\n",
    "backbone.name = \"backbone\"\n",
    "pcr_product.name = \"pcr_product\"\n",
    "\n",
    "cs = CloningStrategy.from_dseqrecord(expression_clone)\n",
    "with open(\"gateway.json\", \"w\") as f:\n",
    "    f.write(cs.model_dump_json())\n",
    "\n",
    "expression_clone.history()"
   ]
  },
  {
   "cell_type": "markdown",
   "id": "11",
   "metadata": {},
   "source": [
    "## Homologous recombination integration\n",
    "This section performs homologous recombination integration of two inserts into a genome and exports the result as JSON."
   ]
  },
  {
   "cell_type": "code",
   "execution_count": null,
   "id": "12",
   "metadata": {},
   "outputs": [
    {
     "name": "stdout",
     "output_type": "stream",
     "text": [
      "╙── excision_product (Dseqrecord(o24))\n",
      "    └─╼ HomologousRecombinationSource\n",
      "        └─╼ integration_product (Dseqrecord(-56))\n",
      "            └─╼ HomologousRecombinationSource\n",
      "                ├─╼ genome (Dseqrecord(-57))\n",
      "                └─╼ insert (Dseqrecord(-44))\n"
     ]
    }
   ],
   "source": [
    "homology = \"AAGTCCGTTCGTTTTACCTG\"\n",
    "genome = Dseqrecord(f\"aaaaaa{homology}ccccc{homology}aaaaaa\")\n",
    "insert = Dseqrecord(f\"{homology}gggg{homology}\")\n",
    "integration_product, *_ = homologous_recombination_integration(genome, [insert], 20)\n",
    "\n",
    "excision_product, *_ = homologous_recombination_excision(integration_product, 20)\n",
    "\n",
    "genome.name = \"genome\"\n",
    "insert.name = \"insert\"\n",
    "integration_product.name = \"integration_product\"\n",
    "excision_product.name = \"excision_product\"\n",
    "\n",
    "cs = CloningStrategy.from_dseqrecord(excision_product)\n",
    "with open(\"homologous_recombination.json\", \"w\") as f:\n",
    "    f.write(cs.model_dump_json())\n",
    "\n",
    "excision_product.history()"
   ]
  },
  {
   "cell_type": "markdown",
   "id": "13",
   "metadata": {},
   "source": [
    "## Cre-lox integration\n",
    "This section performs Cre-lox integration , then excision."
   ]
  },
  {
   "cell_type": "code",
   "execution_count": null,
   "id": "14",
   "metadata": {},
   "outputs": [
    {
     "name": "stdout",
     "output_type": "stream",
     "text": [
      "╙── excision_product (Dseqrecord(o39))\n",
      "    └─╼ CreLoxRecombinationSource\n",
      "        └─╼ integration_product (Dseqrecord(-84))\n",
      "            └─╼ CreLoxRecombinationSource\n",
      "                ├─╼ a (Dseqrecord(-45))\n",
      "                └─╼ b (Dseqrecord(o39))\n"
     ]
    }
   ],
   "source": [
    "from pydna.cre_lox import LOXP_SEQUENCE\n",
    "a = Dseqrecord(f\"cccccc{LOXP_SEQUENCE}aaaaa\")\n",
    "b = Dseqrecord(f\"{LOXP_SEQUENCE}bbbbb\", circular=True)\n",
    "integration_product, *_ = cre_lox_integration(a, [b])\n",
    "excision_product, *_ = cre_lox_excision(integration_product)\n",
    "\n",
    "a.name = \"a\"\n",
    "b.name = \"b\"\n",
    "integration_product.name = \"integration_product\"\n",
    "excision_product.name = \"excision_product\"\n",
    "\n",
    "cs = CloningStrategy.from_dseqrecord(excision_product)\n",
    "with open(\"cre_lox.json\", \"w\") as f:\n",
    "    f.write(cs.model_dump_json())\n",
    "\n",
    "excision_product.history()"
   ]
  },
  {
   "cell_type": "markdown",
   "id": "15",
   "metadata": {},
   "source": [
    "## PCR assembly\n",
    "This section performs PCR assembly and exports the result as JSON.\n"
   ]
  },
  {
   "cell_type": "code",
   "execution_count": null,
   "id": "16",
   "metadata": {},
   "outputs": [
    {
     "name": "stdout",
     "output_type": "stream",
     "text": [
      "╙── prod (Dseqrecord(-22))\n",
      "    └─╼ PCRSource\n",
      "        ├─╼ primer1 (id 8-mer:5'-ACGTACGT-3')\n",
      "        ├─╼ seq (Dseqrecord(-30))\n",
      "        └─╼ primer2 (id 8-mer:5'-GCGCGCGC-3')\n"
     ]
    }
   ],
   "source": [
    "primer1 = Primer(\"ACGTACGT\")\n",
    "primer2 = Primer(reverse_complement(\"GCGCGCGC\"))\n",
    "\n",
    "seq = Dseqrecord(\"ccccACGTACGTAAAAAAGCGCGCGCcccc\")\n",
    "\n",
    "prod, *_ = pcr_assembly(seq, primer1, primer2, limit=8)\n",
    "\n",
    "primer1.name = \"primer1\"\n",
    "primer2.name = \"primer2\"\n",
    "seq.name = \"seq\"\n",
    "prod.name = \"prod\"\n",
    "\n",
    "cs = CloningStrategy.from_dseqrecord(prod)\n",
    "\n",
    "with open(\"pcr.json\", \"w\") as f:\n",
    "    f.write(cs.model_dump_json())\n",
    "\n",
    "prod.history()"
   ]
  }
 ],
 "metadata": {
  "kernelspec": {
   "display_name": ".venv",
   "language": "python",
   "name": "python3"
  },
  "language_info": {
   "codemirror_mode": {
    "name": "ipython",
    "version": 3
   },
   "file_extension": ".py",
   "mimetype": "text/x-python",
   "name": "python",
   "nbconvert_exporter": "python",
   "pygments_lexer": "ipython3",
   "version": "3.12.2"
  }
 },
 "nbformat": 4,
 "nbformat_minor": 5
}
