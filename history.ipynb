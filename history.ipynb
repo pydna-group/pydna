{
 "cells": [
  {
   "cell_type": "code",
   "execution_count": null,
   "id": "0",
   "metadata": {},
   "outputs": [],
   "source": [
    "import os\n",
    "from pydna.dseqrecord import Dseqrecord\n",
    "from pydna.assembly2 import (\n",
    "    golden_gate_assembly,\n",
    "    gibson_assembly,\n",
    "    ligation_assembly,\n",
    "    gateway_assembly,\n",
    "    homologous_recombination_integration,\n",
    "    homologous_recombination_excision,\n",
    "    cre_lox_integration,\n",
    "    cre_lox_excision,\n",
    "    pcr_assembly,\n",
    ")\n",
    "\n",
    "from Bio.Restriction import BsaI, EcoRI, SalI\n",
    "from pydna.parsers import parse_snapgene\n",
    "from pydna.opencloning_models import CloningStrategy\n",
    "from pydna.primer import Primer\n",
    "from Bio.Seq import reverse_complement\n"
   ]
  },
  {
   "cell_type": "markdown",
   "id": "1",
   "metadata": {},
   "source": [
    "## Golden Gate assembly (BsaI)\n",
    "This section assembles three inserts into a circular vector using Golden Gate with BsaI and exports the design as JSON.\n"
   ]
  },
  {
   "cell_type": "code",
   "execution_count": null,
   "id": "2",
   "metadata": {},
   "outputs": [
    {
     "data": {
      "text/plain": [
       "CloningStrategy(sequences=[TextFileSequence(id=5, type='TextFileSequence', sequence_file_format='genbank', overhang_crick_3prime=0, overhang_watson_3prime=0, file_content='LOCUS       name                      39 bp    DNA     circular UNK 01-JAN-1980\\nDEFINITION  description.\\nACCESSION   id\\nVERSION     id\\nKEYWORDS    .\\nSOURCE      .\\n  ORGANISM  .\\n            .\\nFEATURES             Location/Qualifiers\\nORIGIN\\n        1 attaaaaaat taacccccat atgggggccg gtttttttt\\n//'), TextFileSequence(id=3, type='TextFileSequence', sequence_file_format='genbank', overhang_crick_3prime=0, overhang_watson_3prime=0, file_content='LOCUS       name                      27 bp    DNA     linear   UNK 01-JAN-1980\\nDEFINITION  description.\\nACCESSION   id\\nVERSION     id\\nKEYWORDS    .\\nSOURCE      .\\n  ORGANISM  .\\n            .\\nFEATURES             Location/Qualifiers\\nORIGIN\\n        1 ggtctcaatt aaaaaattaa agagacc\\n//'), TextFileSequence(id=4, type='TextFileSequence', sequence_file_format='genbank', overhang_crick_3prime=0, overhang_watson_3prime=0, file_content='LOCUS       name                      27 bp    DNA     linear   UNK 01-JAN-1980\\nDEFINITION  description.\\nACCESSION   id\\nVERSION     id\\nKEYWORDS    .\\nSOURCE      .\\n  ORGANISM  .\\n            .\\nFEATURES             Location/Qualifiers\\nORIGIN\\n        1 ggtctcatta acccccatat agagacc\\n//'), TextFileSequence(id=2, type='TextFileSequence', sequence_file_format='genbank', overhang_crick_3prime=0, overhang_watson_3prime=0, file_content='LOCUS       name                      27 bp    DNA     linear   UNK 01-JAN-1980\\nDEFINITION  description.\\nACCESSION   id\\nVERSION     id\\nKEYWORDS    .\\nSOURCE      .\\n  ORGANISM  .\\n            .\\nFEATURES             Location/Qualifiers\\nORIGIN\\n        1 ggtctcaata tgggggccgg agagacc\\n//'), TextFileSequence(id=1, type='TextFileSequence', sequence_file_format='genbank', overhang_crick_3prime=0, overhang_watson_3prime=0, file_content='LOCUS       name                      35 bp    DNA     circular UNK 01-JAN-1980\\nDEFINITION  description.\\nACCESSION   id\\nVERSION     id\\nKEYWORDS    .\\nSOURCE      .\\n  ORGANISM  .\\n            .\\nFEATURES             Location/Qualifiers\\nORIGIN\\n        1 ttttattaag agaccttttt ggtctcaccg gtttt\\n//')], sources=[RestrictionAndLigationSource(id=5, type='RestrictionAndLigationSource', output_name=None, database_id=None, input=[AssemblyFragment(type='AssemblyFragment', sequence=3, left_location='8..11', right_location='17..20', reverse_complemented=False), AssemblyFragment(type='AssemblyFragment', sequence=4, left_location='8..11', right_location='17..20', reverse_complemented=False), AssemblyFragment(type='AssemblyFragment', sequence=2, left_location='8..11', right_location='17..20', reverse_complemented=False), AssemblyFragment(type='AssemblyFragment', sequence=1, left_location='28..31', right_location='5..8', reverse_complemented=False)], circular=True, restriction_enzymes=['BsaI']), ManuallyTypedSource(id=3, type='ManuallyTypedSource', output_name=None, database_id=None, input=[], overhang_crick_3prime=0, overhang_watson_3prime=0, user_input='A', circular=None), ManuallyTypedSource(id=4, type='ManuallyTypedSource', output_name=None, database_id=None, input=[], overhang_crick_3prime=0, overhang_watson_3prime=0, user_input='A', circular=None), ManuallyTypedSource(id=2, type='ManuallyTypedSource', output_name=None, database_id=None, input=[], overhang_crick_3prime=0, overhang_watson_3prime=0, user_input='A', circular=None), ManuallyTypedSource(id=1, type='ManuallyTypedSource', output_name=None, database_id=None, input=[], overhang_crick_3prime=0, overhang_watson_3prime=0, user_input='A', circular=None)], primers=[], description='', files=None, schema_version='0.4.3', backend_version=None, frontend_version=None)"
      ]
     },
     "execution_count": null,
     "metadata": {},
     "output_type": "execute_result"
    }
   ],
   "source": [
    "insert1 = Dseqrecord(\"GGTCTCAattaAAAAAttaaAGAGACC\")\n",
    "insert2 = Dseqrecord(\"GGTCTCAttaaCCCCCatatAGAGACC\")\n",
    "insert3 = Dseqrecord(\"GGTCTCAatatGGGGGccggAGAGACC\")\n",
    "\n",
    "vector = Dseqrecord(\"TTTTattaAGAGACCTTTTTGGTCTCAccggTTTT\", circular=True)\n",
    "\n",
    "assembly_output = golden_gate_assembly(\n",
    "    [insert1, insert2, insert3, vector], [BsaI], circular_only=True\n",
    ")\n",
    "\n",
    "cs = CloningStrategy.from_dseqrecord(assembly_output[0])\n",
    "\n",
    "with open(\"golden_gate.json\", \"w\") as f:\n",
    "    f.write(cs.model_dump_json())\n",
    "\n",
    "CloningStrategy.model_validate(cs.model_dump())\n"
   ]
  },
  {
   "cell_type": "markdown",
   "id": "3",
   "metadata": {},
   "source": [
    "## Gibson assembly\n",
    "This section assembles three linear fragments using Gibson assembly and serializes the resulting product to JSON.\n"
   ]
  },
  {
   "cell_type": "code",
   "execution_count": null,
   "id": "4",
   "metadata": {},
   "outputs": [],
   "source": [
    "fragments = [\n",
    "    Dseqrecord(\"TTTTacgatAAtgctccCCCC\", circular=False),\n",
    "    Dseqrecord(\"CCCCtcatGGGG\", circular=False),\n",
    "    Dseqrecord(\"GGGGatataTTTT\", circular=False),\n",
    "]\n",
    "\n",
    "products = gibson_assembly(fragments, limit=4)\n",
    "\n",
    "cs = CloningStrategy.from_dseqrecord(products[0])\n",
    "with open(\"gibson.json\", \"w\") as f:\n",
    "    f.write(cs.model_dump_json())\n"
   ]
  },
  {
   "cell_type": "markdown",
   "id": "5",
   "metadata": {},
   "source": [
    "## Restriction/ligation assembly (EcoRI/SalI)\n",
    "This section cuts a template with EcoRI and SalI, ligates compatible fragments, and exports the result as JSON.\n"
   ]
  },
  {
   "cell_type": "code",
   "execution_count": null,
   "id": "6",
   "metadata": {},
   "outputs": [],
   "source": [
    "a = Dseqrecord(\"aaGAATTCccGTCGACaa\")\n",
    "\n",
    "c, d, e = a.cut(EcoRI, SalI)\n",
    "\n",
    "f = ligation_assembly([c, d, e])\n",
    "\n",
    "cs = CloningStrategy.from_dseqrecord(f[0])\n",
    "\n",
    "with open(\"restriction_ligation.json\", \"w\") as f:\n",
    "    f.write(cs.model_dump_json())\n"
   ]
  },
  {
   "cell_type": "markdown",
   "id": "7",
   "metadata": {},
   "source": [
    "### Gateway assembly (BP and LR)\n",
    "This section creates an Entry vector via BP reaction, then generates an Expression clone via LR reaction using test SnapGene files.\n"
   ]
  },
  {
   "cell_type": "code",
   "execution_count": null,
   "id": "8",
   "metadata": {},
   "outputs": [],
   "source": [
    "test_files = \"tests\"\n",
    "\n",
    "line = \"pDONRtm221.dna\tpcr_product-attP1_1-attP2_1.dna\tentry-attP1_1-attP2_1.dna\tpET-53-DESTtm.dna\texpression-attP1_1-attP2_1.dna\".split(\n",
    "    \"\\t\"\n",
    ")\n",
    "backbone, pcr_product, _, backbone_expression, _ = line\n",
    "backbone = parse_snapgene(os.path.join(\"tests/gateway_manual_cloning/\" + backbone))[0]\n",
    "pcr_product = parse_snapgene(\n",
    "    os.path.join(\"tests/gateway_manual_cloning/\" + pcr_product)\n",
    ")[0]\n",
    "backbone_expression = parse_snapgene(\n",
    "    os.path.join(\"tests/gateway_manual_cloning/\" + backbone_expression)\n",
    ")[0]\n",
    "\n",
    "# Works with the right reaction\n",
    "entry_vector = gateway_assembly(\n",
    "    [backbone, pcr_product], \"BP\", multi_site_only=True, circular_only=True\n",
    ")[0]\n",
    "\n",
    "expression_clone, _ = gateway_assembly(\n",
    "    [backbone_expression, entry_vector], \"LR\", multi_site_only=True, circular_only=True\n",
    ")\n",
    "\n",
    "cs = CloningStrategy.from_dseqrecord(expression_clone)\n",
    "with open(\"gateway.json\", \"w\") as f:\n",
    "    f.write(cs.model_dump_json())\n"
   ]
  },
  {
   "cell_type": "markdown",
   "id": "9",
   "metadata": {},
   "source": [
    "## Homologous recombination integration\n",
    "This section performs homologous recombination integration of two inserts into a genome and exports the result as JSON."
   ]
  },
  {
   "cell_type": "code",
   "execution_count": null,
   "id": "10",
   "metadata": {},
   "outputs": [],
   "source": [
    "homology = \"AAGTCCGTTCGTTTTACCTG\"\n",
    "genome = Dseqrecord(f\"aaaaaa{homology}ccccc{homology}aaaaaa\")\n",
    "insert = Dseqrecord(f\"{homology}gggg{homology}\")\n",
    "integration_product, *_ = homologous_recombination_integration(genome, [insert], 20)\n",
    "\n",
    "excision_product, *_ = homologous_recombination_excision(integration_product, 20)\n",
    "\n",
    "cs = CloningStrategy.from_dseqrecord(excision_product)\n",
    "with open(\"homologous_recombination.json\", \"w\") as f:\n",
    "    f.write(cs.model_dump_json())\n"
   ]
  },
  {
   "cell_type": "markdown",
   "id": "11",
   "metadata": {},
   "source": [
    "## Cre-lox integration\n",
    "This section performs Cre-lox integration , then excision."
   ]
  },
  {
   "cell_type": "code",
   "execution_count": null,
   "id": "12",
   "metadata": {},
   "outputs": [],
   "source": [
    "from pydna.cre_lox import LOXP_SEQUENCE\n",
    "a = Dseqrecord(f\"cccccc{LOXP_SEQUENCE}aaaaa\")\n",
    "b = Dseqrecord(f\"{LOXP_SEQUENCE}bbbbb\", circular=True)\n",
    "integration_product, *_ = cre_lox_integration(a, [b])\n",
    "excision_product, *_ = cre_lox_excision(integration_product)\n",
    "\n",
    "cs = CloningStrategy.from_dseqrecord(excision_product)\n",
    "with open(\"cre_lox.json\", \"w\") as f:\n",
    "    f.write(cs.model_dump_json())\n",
    "\n"
   ]
  },
  {
   "cell_type": "markdown",
   "id": "13",
   "metadata": {},
   "source": [
    "## PCR assembly\n",
    "This section performs PCR assembly and exports the result as JSON.\n"
   ]
  },
  {
   "cell_type": "code",
   "execution_count": null,
   "id": "14",
   "metadata": {},
   "outputs": [],
   "source": [
    "primer1 = Primer(\"ACGTACGT\")\n",
    "primer2 = Primer(reverse_complement(\"GCGCGCGC\"))\n",
    "\n",
    "seq = Dseqrecord(\"ccccACGTACGTAAAAAAGCGCGCGCcccc\")\n",
    "\n",
    "prod, *_ = pcr_assembly(seq, primer1, primer2, limit=8)\n",
    "\n",
    "cs = CloningStrategy.from_dseqrecord(prod)\n",
    "\n",
    "with open(\"pcr.json\", \"w\") as f:\n",
    "    f.write(cs.model_dump_json())"
   ]
  }
 ],
 "metadata": {
  "kernelspec": {
   "display_name": ".venv",
   "language": "python",
   "name": "python3"
  },
  "language_info": {
   "codemirror_mode": {
    "name": "ipython",
    "version": 3
   },
   "file_extension": ".py",
   "mimetype": "text/x-python",
   "name": "python",
   "nbconvert_exporter": "python",
   "pygments_lexer": "ipython3",
   "version": "3.12.2"
  }
 },
 "nbformat": 4,
 "nbformat_minor": 5
}
