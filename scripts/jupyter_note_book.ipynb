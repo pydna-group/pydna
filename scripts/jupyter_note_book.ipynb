{
 "cells": [
  {
   "cell_type": "code",
   "execution_count": null,
   "metadata": {},
   "outputs": [],
   "source": [
    "from IPython.display import Javascript, display"
   ]
  },
  {
   "cell_type": "code",
   "execution_count": null,
   "metadata": {},
   "outputs": [],
   "source": [
    "s = (\n",
    "    'var canvas = document.createElement(\"canvas\");'\n",
    "    'canvas.height= 400;'\n",
    "    'canvas.width = 400;'\n",
    "    'document.body.appendChild(canvas);'\n",
    ")"
   ]
  },
  {
   "cell_type": "code",
   "execution_count": null,
   "metadata": {},
   "outputs": [
    {
     "data": {
      "application/javascript": [
       "var canvas = document.createElement(\"canvas\");canvas.height= 400;canvas.width = 400;document.body.appendChild(canvas);"
      ],
      "text/plain": [
       "<IPython.core.display.Javascript object>"
      ]
     },
     "metadata": {},
     "output_type": "display_data"
    }
   ],
   "source": [
    "display(Javascript(s))"
   ]
  },
  {
   "cell_type": "code",
   "execution_count": null,
   "metadata": {},
   "outputs": [],
   "source": [
    "class MyCircle(object):\n",
    "    def __init__(self, center=(0.0, 0.0), radius=1.0, color='blue'):\n",
    "        self.center = center\n",
    "        self.radius = radius\n",
    "        self.color = color\n",
    "\n",
    "    def _repr_html_(self):\n",
    "        return \"&#x25CB; (<b>html</b>)\"\n",
    "\n",
    "    def _repr_svg_(self):\n",
    "        return \"\"\"<svg width=\"100px\" height=\"100px\">\n",
    "           <circle cx=\"50\" cy=\"50\" r=\"20\" stroke=\"black\" stroke-width=\"1\" fill=\"blue\"/>\n",
    "        </svg>\"\"\"\n",
    "\n",
    "    def _repr_latex_(self):\n",
    "        return r\"$\\bigcirc \\LaTeX$\"\n",
    "\n",
    "    def _repr_javascript_(self):\n",
    "        s = (\n",
    "            'var canvas = document.createElement(\"canvas\");'\n",
    "            'canvas.height= 400;'\n",
    "            'canvas.width = 400;'\n",
    "            'document.body.appendChild(canvas);'\n",
    "        )\n",
    "        return s"
   ]
  },
  {
   "cell_type": "code",
   "execution_count": null,
   "metadata": {},
   "outputs": [],
   "source": [
    "a = MyCircle()"
   ]
  },
  {
   "cell_type": "code",
   "execution_count": null,
   "metadata": {},
   "outputs": [
    {
     "data": {
      "application/javascript": [
       "var canvas = document.createElement(\"canvas\");canvas.height= 400;canvas.width = 400;document.body.appendChild(canvas);"
      ],
      "image/svg+xml": [
       "<svg width=\"100px\" height=\"100px\">\n",
       "           <circle cx=\"50\" cy=\"50\" r=\"20\" stroke=\"black\" stroke-width=\"1\" fill=\"blue\"/>\n",
       "        </svg>"
      ],
      "text/html": [
       "&#x25CB; (<b>html</b>)"
      ],
      "text/latex": [
       "$\\bigcirc \\LaTeX$"
      ],
      "text/plain": [
       "<__main__.MyCircle at 0x7f7df19d5760>"
      ]
     },
     "execution_count": null,
     "metadata": {},
     "output_type": "execute_result"
    }
   ],
   "source": [
    "a"
   ]
  },
  {
   "cell_type": "code",
   "execution_count": null,
   "metadata": {},
   "outputs": [],
   "source": []
  }
 ],
 "metadata": {
  "anaconda-cloud": {},
  "kernelspec": {
   "display_name": "Python 3",
   "language": "python",
   "name": "python3"
  },
  "language_info": {
   "codemirror_mode": {
    "name": "ipython",
    "version": 3
   },
   "file_extension": ".py",
   "mimetype": "text/x-python",
   "name": "python",
   "nbconvert_exporter": "python",
   "pygments_lexer": "ipython3",
   "version": "3.8.5"
  }
 },
 "nbformat": 4,
 "nbformat_minor": 0
}
