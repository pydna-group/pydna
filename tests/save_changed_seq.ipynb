{
 "cells": [
  {
   "cell_type": "code",
   "execution_count": 3,
   "metadata": {
    "collapsed": false,
    "jupyter": {
     "outputs_hidden": false
    }
   },
   "outputs": [],
   "source": [
    "try:\n",
    "    from pydna.dseqrecord import Dseqrecord\n",
    "except ImportError:\n",
    "    import sys, os\n",
    "\n",
    "    sys.path.append(os.pardir)\n",
    "    from pydna.dseqrecord import Dseqrecord"
   ]
  },
  {
   "cell_type": "code",
   "execution_count": 4,
   "metadata": {},
   "outputs": [],
   "source": [
    "import os\n",
    "import glob"
   ]
  },
  {
   "cell_type": "code",
   "execution_count": 5,
   "metadata": {},
   "outputs": [],
   "source": [
    "try:\n",
    "    os.remove(\"file_written_from_notebook.gb\")\n",
    "except OSError:\n",
    "    pass"
   ]
  },
  {
   "cell_type": "code",
   "execution_count": 6,
   "metadata": {},
   "outputs": [],
   "source": [
    "a = Dseqrecord(\"aaa\")\n",
    "b = Dseqrecord(\"aat\")\n",
    "c = Dseqrecord(\"gatc\", circular=True)\n",
    "d = Dseqrecord(\"cgat\", circular=True)"
   ]
  },
  {
   "cell_type": "code",
   "execution_count": 7,
   "metadata": {
    "collapsed": false,
    "jupyter": {
     "outputs_hidden": false
    }
   },
   "outputs": [
    {
     "data": {
      "text/html": [
       "<font face=monospace><a href='file_written_from_notebook.gb' target='_blank'>file_written_from_notebook.gb</a></font><br>"
      ]
     },
     "metadata": {},
     "output_type": "display_data"
    }
   ],
   "source": [
    "a.write(\"file_written_from_notebook.gb\")"
   ]
  },
  {
   "cell_type": "code",
   "execution_count": 8,
   "metadata": {},
   "outputs": [
    {
     "data": {
      "text/html": [
       "<font face=monospace><a href='file_written_from_notebook.gb' target='_blank'>file_written_from_notebook.gb</a></font><br>"
      ]
     },
     "metadata": {},
     "output_type": "display_data"
    }
   ],
   "source": [
    "a.write(\"file_written_from_notebook.gb\")"
   ]
  },
  {
   "cell_type": "code",
   "execution_count": 9,
   "metadata": {
    "collapsed": false,
    "jupyter": {
     "outputs_hidden": false
    }
   },
   "outputs": [
    {
     "data": {
      "text/html": [
       "\n",
       "                <table style=\"padding:10px 10px;\n",
       "                word-break:normal;\n",
       "                border-color:#fe0000;\n",
       "                border-collapse:collapse;\n",
       "                border-spacing:1;\n",
       "                font-family:monospace;\n",
       "                font-size:large;\n",
       "                font-weight:bold;\n",
       "                text-align:left;\n",
       "                border: 5px solid red;\">\n",
       "                <thead>\n",
       "                  <tr style=\"color:#0000FF;border: 1px solid;text-align:left;\">\n",
       "                    <th style=\"color:#fe0000;border: 1px solid;text-align:center;font-size:xxx-large;text-align:left;\">&#9888</th>\n",
       "                    <th style=\"color:#f56b00;border: 1px solid;text-align:left;\" colspan=\"2\">Sequence change</th>\n",
       "                  </tr>\n",
       "                </thead>\n",
       "                <tbody>\n",
       "                  <tr style=\"color:#0000FF;border: 1px solid;text-align:left;\">\n",
       "                    <td>Filename</td>\n",
       "                    <td style=\"color:#fe0000;border: 1px solid;text-align:left;\"><a href='file_written_from_notebook.gb' target='_blank'>file_written_from_notebook.gb</a></td>\n",
       "                    <td style=\"color:#32cb00;border: 1px solid;text-align:left;\"><a href='file_written_from_notebook_OLD_1737731283705802.gb' target='_blank'>file_written_from_notebook_OLD_1737731283705802.gb</a></td>\n",
       "                  </tr>\n",
       "                  <tr style=\"color:#0000FF;border: 1px solid;text-align:left;\">\n",
       "                    <td >Saved</td>\n",
       "                    <td style=\"color:#fe0000;border: 1px solid;text-align:left;\">2025-01-24T15:08:03.708889</td>\n",
       "                    <td style=\"color:#32cb00;border: 1px solid;text-align:left;\">2025-01-24T15:07:55.430987</td>\n",
       "                  </tr>\n",
       "                  <tr style=\"color:#0000FF;border: 1px solid;text-align:left;\">\n",
       "                    <td>Length</td>\n",
       "                    <td style=\"color:#fe0000;border: 1px solid;text-align:left;\">3</td>\n",
       "                    <td style=\"color:#32cb00;border: 1px solid;text-align:left;\">3</td>\n",
       "                  </tr>\n",
       "                  <tr style=\"color:#0000FF;border: 1px solid;text-align:left;\">\n",
       "                    <td>SEGUID</td>\n",
       "                    <td style=\"color:#fe0000;border: 1px solid;text-align:left;\">ldseguid=3B2LxEIcgIcmdeqgqNRK63DjCNQ</td>\n",
       "                    <td style=\"color:#32cb00;border: 1px solid;text-align:left;\">ldseguid=jsRKbQfIfC3e-1AvZ26x2FKJQoo</td>\n",
       "                  </tr>\n",
       "                </tbody>\n",
       "                </table>\n",
       "                "
      ]
     },
     "metadata": {},
     "output_type": "display_data"
    }
   ],
   "source": [
    "# NBVAL_IGNORE_OUTPUT\n",
    "b.write(\"file_written_from_notebook.gb\")"
   ]
  },
  {
   "cell_type": "code",
   "execution_count": 10,
   "metadata": {},
   "outputs": [
    {
     "data": {
      "text/html": [
       "\n",
       "                <table style=\"padding:10px 10px;\n",
       "                word-break:normal;\n",
       "                border-color:#fe0000;\n",
       "                border-collapse:collapse;\n",
       "                border-spacing:1;\n",
       "                font-family:monospace;\n",
       "                font-size:large;\n",
       "                font-weight:bold;\n",
       "                text-align:left;\n",
       "                border: 5px solid red;\">\n",
       "                <thead>\n",
       "                  <tr style=\"color:#0000FF;border: 1px solid;text-align:left;\">\n",
       "                    <th style=\"color:#fe0000;border: 1px solid;text-align:center;font-size:xxx-large;text-align:left;\">&#9888</th>\n",
       "                    <th style=\"color:#f56b00;border: 1px solid;text-align:left;\" colspan=\"2\">Sequence change</th>\n",
       "                  </tr>\n",
       "                </thead>\n",
       "                <tbody>\n",
       "                  <tr style=\"color:#0000FF;border: 1px solid;text-align:left;\">\n",
       "                    <td>Filename</td>\n",
       "                    <td style=\"color:#fe0000;border: 1px solid;text-align:left;\"><a href='file_written_from_notebook.gb' target='_blank'>file_written_from_notebook.gb</a></td>\n",
       "                    <td style=\"color:#32cb00;border: 1px solid;text-align:left;\"><a href='file_written_from_notebook_OLD_1737731295845493.gb' target='_blank'>file_written_from_notebook_OLD_1737731295845493.gb</a></td>\n",
       "                  </tr>\n",
       "                  <tr style=\"color:#0000FF;border: 1px solid;text-align:left;\">\n",
       "                    <td >Saved</td>\n",
       "                    <td style=\"color:#fe0000;border: 1px solid;text-align:left;\">2025-01-24T15:08:15.845744</td>\n",
       "                    <td style=\"color:#32cb00;border: 1px solid;text-align:left;\">2025-01-24T15:08:03.714889</td>\n",
       "                  </tr>\n",
       "                  <tr style=\"color:#0000FF;border: 1px solid;text-align:left;\">\n",
       "                    <td>Length</td>\n",
       "                    <td style=\"color:#fe0000;border: 1px solid;text-align:left;\">4</td>\n",
       "                    <td style=\"color:#32cb00;border: 1px solid;text-align:left;\">3</td>\n",
       "                  </tr>\n",
       "                  <tr style=\"color:#0000FF;border: 1px solid;text-align:left;\">\n",
       "                    <td>SEGUID</td>\n",
       "                    <td style=\"color:#fe0000;border: 1px solid;text-align:left;\">cdseguid=eIDMMIUYllELJXaJumSn0IWo2Xw</td>\n",
       "                    <td style=\"color:#32cb00;border: 1px solid;text-align:left;\">ldseguid=3B2LxEIcgIcmdeqgqNRK63DjCNQ</td>\n",
       "                  </tr>\n",
       "                </tbody>\n",
       "                </table>\n",
       "                "
      ]
     },
     "metadata": {},
     "output_type": "display_data"
    }
   ],
   "source": [
    "# NBVAL_IGNORE_OUTPUT\n",
    "c.write(\"file_written_from_notebook.gb\")"
   ]
  },
  {
   "cell_type": "code",
   "execution_count": 11,
   "metadata": {},
   "outputs": [
    {
     "data": {
      "text/html": [
       "\n",
       "                <table style=\"padding:10px 10px;\n",
       "                word-break:normal;\n",
       "                border-color:#fe0000;\n",
       "                border-collapse:collapse;\n",
       "                border-spacing:1;\n",
       "                font-family:monospace;\n",
       "                font-size:large;\n",
       "                font-weight:bold;\n",
       "                text-align:left;\n",
       "                border: 5px solid red;\">\n",
       "                <thead>\n",
       "                  <tr style=\"color:#0000FF;border: 1px solid;text-align:left;\">\n",
       "                    <th style=\"color:#fe0000;border: 1px solid;text-align:center;font-size:xxx-large;text-align:left;\">&#9888</th>\n",
       "                    <th style=\"color:#f56b00;border: 1px solid;text-align:left;\" colspan=\"2\">Sequence change</th>\n",
       "                  </tr>\n",
       "                </thead>\n",
       "                <tbody>\n",
       "                  <tr style=\"color:#0000FF;border: 1px solid;text-align:left;\">\n",
       "                    <td>Filename</td>\n",
       "                    <td style=\"color:#fe0000;border: 1px solid;text-align:left;\"><a href='file_written_from_notebook.gb' target='_blank'>file_written_from_notebook.gb</a></td>\n",
       "                    <td style=\"color:#32cb00;border: 1px solid;text-align:left;\"><a href='file_written_from_notebook_OLD_1737731303157131.gb' target='_blank'>file_written_from_notebook_OLD_1737731303157131.gb</a></td>\n",
       "                  </tr>\n",
       "                  <tr style=\"color:#0000FF;border: 1px solid;text-align:left;\">\n",
       "                    <td >Saved</td>\n",
       "                    <td style=\"color:#fe0000;border: 1px solid;text-align:left;\">2025-01-24T15:08:23.157656</td>\n",
       "                    <td style=\"color:#32cb00;border: 1px solid;text-align:left;\">2025-01-24T15:08:15.849744</td>\n",
       "                  </tr>\n",
       "                  <tr style=\"color:#0000FF;border: 1px solid;text-align:left;\">\n",
       "                    <td>Length</td>\n",
       "                    <td style=\"color:#fe0000;border: 1px solid;text-align:left;\">4</td>\n",
       "                    <td style=\"color:#32cb00;border: 1px solid;text-align:left;\">4</td>\n",
       "                  </tr>\n",
       "                  <tr style=\"color:#0000FF;border: 1px solid;text-align:left;\">\n",
       "                    <td>SEGUID</td>\n",
       "                    <td style=\"color:#fe0000;border: 1px solid;text-align:left;\">cdseguid=eIDMMIUYllELJXaJumSn0IWo2Xw</td>\n",
       "                    <td style=\"color:#32cb00;border: 1px solid;text-align:left;\">cdseguid=eIDMMIUYllELJXaJumSn0IWo2Xw</td>\n",
       "                  </tr>\n",
       "                </tbody>\n",
       "                </table>\n",
       "                "
      ]
     },
     "metadata": {},
     "output_type": "display_data"
    }
   ],
   "source": [
    "# NBVAL_IGNORE_OUTPUT\n",
    "d.write(\"file_written_from_notebook.gb\")"
   ]
  },
  {
   "cell_type": "code",
   "execution_count": 12,
   "metadata": {},
   "outputs": [],
   "source": [
    "os.remove(\"file_written_from_notebook.gb\")"
   ]
  },
  {
   "cell_type": "code",
   "execution_count": 13,
   "metadata": {},
   "outputs": [],
   "source": [
    "for filePath in glob.glob(\"file_written_from_notebook_OLD_*\", recursive=False):\n",
    "    try:\n",
    "        os.remove(filePath)\n",
    "    except OSError:\n",
    "        print(\"Error while deleting file\")"
   ]
  }
 ],
 "metadata": {
  "anaconda-cloud": {},
  "kernelspec": {
   "display_name": "Python 3 (ipykernel)",
   "language": "python",
   "name": "python3"
  },
  "language_info": {
   "codemirror_mode": {
    "name": "ipython",
    "version": 3
   },
   "file_extension": ".py",
   "mimetype": "text/x-python",
   "name": "python",
   "nbconvert_exporter": "python",
   "pygments_lexer": "ipython3",
   "version": "3.12.7"
  }
 },
 "nbformat": 4,
 "nbformat_minor": 4
}
